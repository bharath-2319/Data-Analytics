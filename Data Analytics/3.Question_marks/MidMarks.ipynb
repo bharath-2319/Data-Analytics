{
 "cells": [
  {
   "cell_type": "code",
   "execution_count": 1,
   "id": "5520a650-6c11-4909-96ca-7d0b88821deb",
   "metadata": {},
   "outputs": [],
   "source": [
    "import pandas as pd\n",
    "import matplotlib.pyplot as plt\n",
    "import seaborn as sns\n",
    "df = pd.read_excel(\"MIDMARKS-MINOR1-EXAM.xlsx\")"
   ]
  },
  {
   "cell_type": "code",
   "execution_count": 2,
   "id": "39e37518-5a4e-43c2-8c16-fb800c738832",
   "metadata": {},
   "outputs": [
    {
     "data": {
      "text/html": [
       "<div>\n",
       "<style scoped>\n",
       "    .dataframe tbody tr th:only-of-type {\n",
       "        vertical-align: middle;\n",
       "    }\n",
       "\n",
       "    .dataframe tbody tr th {\n",
       "        vertical-align: top;\n",
       "    }\n",
       "\n",
       "    .dataframe thead th {\n",
       "        text-align: right;\n",
       "    }\n",
       "</style>\n",
       "<table border=\"1\" class=\"dataframe\">\n",
       "  <thead>\n",
       "    <tr style=\"text-align: right;\">\n",
       "      <th></th>\n",
       "      <th>S.NO</th>\n",
       "      <th>SECTION</th>\n",
       "      <th>DV</th>\n",
       "      <th>M-II</th>\n",
       "      <th>PP</th>\n",
       "      <th>BEEE</th>\n",
       "      <th>FL</th>\n",
       "      <th>FIMS</th>\n",
       "    </tr>\n",
       "  </thead>\n",
       "  <tbody>\n",
       "    <tr>\n",
       "      <th>0</th>\n",
       "      <td>1</td>\n",
       "      <td>ALPHA</td>\n",
       "      <td>12</td>\n",
       "      <td>0</td>\n",
       "      <td>17</td>\n",
       "      <td>9</td>\n",
       "      <td>19</td>\n",
       "      <td>15</td>\n",
       "    </tr>\n",
       "    <tr>\n",
       "      <th>1</th>\n",
       "      <td>2</td>\n",
       "      <td>ALPHA</td>\n",
       "      <td>19</td>\n",
       "      <td>12</td>\n",
       "      <td>16</td>\n",
       "      <td>16</td>\n",
       "      <td>18</td>\n",
       "      <td>3</td>\n",
       "    </tr>\n",
       "    <tr>\n",
       "      <th>2</th>\n",
       "      <td>3</td>\n",
       "      <td>ALPHA</td>\n",
       "      <td>18</td>\n",
       "      <td>14</td>\n",
       "      <td>18</td>\n",
       "      <td>18</td>\n",
       "      <td>18</td>\n",
       "      <td>16</td>\n",
       "    </tr>\n",
       "    <tr>\n",
       "      <th>3</th>\n",
       "      <td>4</td>\n",
       "      <td>ALPHA</td>\n",
       "      <td>15</td>\n",
       "      <td>9</td>\n",
       "      <td>19</td>\n",
       "      <td>17</td>\n",
       "      <td>19</td>\n",
       "      <td>15</td>\n",
       "    </tr>\n",
       "    <tr>\n",
       "      <th>4</th>\n",
       "      <td>5</td>\n",
       "      <td>ALPHA</td>\n",
       "      <td>18</td>\n",
       "      <td>17</td>\n",
       "      <td>19</td>\n",
       "      <td>19</td>\n",
       "      <td>20</td>\n",
       "      <td>18</td>\n",
       "    </tr>\n",
       "    <tr>\n",
       "      <th>...</th>\n",
       "      <td>...</td>\n",
       "      <td>...</td>\n",
       "      <td>...</td>\n",
       "      <td>...</td>\n",
       "      <td>...</td>\n",
       "      <td>...</td>\n",
       "      <td>...</td>\n",
       "      <td>...</td>\n",
       "    </tr>\n",
       "    <tr>\n",
       "      <th>475</th>\n",
       "      <td>476</td>\n",
       "      <td>NaN</td>\n",
       "      <td>18</td>\n",
       "      <td>2</td>\n",
       "      <td>12</td>\n",
       "      <td>3</td>\n",
       "      <td>17</td>\n",
       "      <td>15</td>\n",
       "    </tr>\n",
       "    <tr>\n",
       "      <th>476</th>\n",
       "      <td>477</td>\n",
       "      <td>NaN</td>\n",
       "      <td>20</td>\n",
       "      <td>6</td>\n",
       "      <td>16</td>\n",
       "      <td>11</td>\n",
       "      <td>20</td>\n",
       "      <td>14</td>\n",
       "    </tr>\n",
       "    <tr>\n",
       "      <th>477</th>\n",
       "      <td>478</td>\n",
       "      <td>NaN</td>\n",
       "      <td>20</td>\n",
       "      <td>NaN</td>\n",
       "      <td>18</td>\n",
       "      <td>13</td>\n",
       "      <td>20</td>\n",
       "      <td>18</td>\n",
       "    </tr>\n",
       "    <tr>\n",
       "      <th>478</th>\n",
       "      <td>479</td>\n",
       "      <td>NaN</td>\n",
       "      <td>20</td>\n",
       "      <td>20</td>\n",
       "      <td>5</td>\n",
       "      <td>19</td>\n",
       "      <td>18</td>\n",
       "      <td>14</td>\n",
       "    </tr>\n",
       "    <tr>\n",
       "      <th>479</th>\n",
       "      <td>480</td>\n",
       "      <td>NaN</td>\n",
       "      <td>20</td>\n",
       "      <td>16</td>\n",
       "      <td>18</td>\n",
       "      <td>19</td>\n",
       "      <td>20</td>\n",
       "      <td>19</td>\n",
       "    </tr>\n",
       "  </tbody>\n",
       "</table>\n",
       "<p>480 rows × 8 columns</p>\n",
       "</div>"
      ],
      "text/plain": [
       "     S.NO SECTION  DV M-II  PP BEEE  FL FIMS\n",
       "0       1   ALPHA  12    0  17    9  19   15\n",
       "1       2   ALPHA  19   12  16   16  18    3\n",
       "2       3   ALPHA  18   14  18   18  18   16\n",
       "3       4   ALPHA  15    9  19   17  19   15\n",
       "4       5   ALPHA  18   17  19   19  20   18\n",
       "..    ...     ...  ..  ...  ..  ...  ..  ...\n",
       "475   476     NaN  18    2  12    3  17   15\n",
       "476   477     NaN  20    6  16   11  20   14\n",
       "477   478     NaN  20  NaN  18   13  20   18\n",
       "478   479     NaN  20   20   5   19  18   14\n",
       "479   480     NaN  20   16  18   19  20   19\n",
       "\n",
       "[480 rows x 8 columns]"
      ]
     },
     "execution_count": 2,
     "metadata": {},
     "output_type": "execute_result"
    }
   ],
   "source": [
    "df"
   ]
  },
  {
   "cell_type": "markdown",
   "id": "65a4957f-37de-43bb-a1e5-6b19e6db453b",
   "metadata": {},
   "source": [
    "# Mid Marks Data"
   ]
  },
  {
   "cell_type": "code",
   "execution_count": 3,
   "id": "a8f224c5-ce04-4846-aab6-9303f2b47c29",
   "metadata": {},
   "outputs": [
    {
     "name": "stdout",
     "output_type": "stream",
     "text": [
      "<class 'pandas.core.frame.DataFrame'>\n",
      "RangeIndex: 480 entries, 0 to 479\n",
      "Data columns (total 8 columns):\n",
      " #   Column   Non-Null Count  Dtype \n",
      "---  ------   --------------  ----- \n",
      " 0   S.NO     480 non-null    int64 \n",
      " 1   SECTION  439 non-null    object\n",
      " 2   DV       479 non-null    object\n",
      " 3   M-II     477 non-null    object\n",
      " 4   PP       480 non-null    object\n",
      " 5   BEEE     478 non-null    object\n",
      " 6   FL       479 non-null    object\n",
      " 7   FIMS     480 non-null    object\n",
      "dtypes: int64(1), object(7)\n",
      "memory usage: 30.1+ KB\n"
     ]
    }
   ],
   "source": [
    "df.info()"
   ]
  },
  {
   "cell_type": "code",
   "execution_count": 4,
   "id": "8887e137-746f-40ad-bbae-a9bd2562dc48",
   "metadata": {},
   "outputs": [
    {
     "data": {
      "text/html": [
       "<div>\n",
       "<style scoped>\n",
       "    .dataframe tbody tr th:only-of-type {\n",
       "        vertical-align: middle;\n",
       "    }\n",
       "\n",
       "    .dataframe tbody tr th {\n",
       "        vertical-align: top;\n",
       "    }\n",
       "\n",
       "    .dataframe thead th {\n",
       "        text-align: right;\n",
       "    }\n",
       "</style>\n",
       "<table border=\"1\" class=\"dataframe\">\n",
       "  <thead>\n",
       "    <tr style=\"text-align: right;\">\n",
       "      <th></th>\n",
       "      <th>S.NO</th>\n",
       "      <th>SECTION</th>\n",
       "      <th>DV</th>\n",
       "      <th>M-II</th>\n",
       "      <th>PP</th>\n",
       "      <th>BEEE</th>\n",
       "      <th>FL</th>\n",
       "      <th>FIMS</th>\n",
       "    </tr>\n",
       "  </thead>\n",
       "  <tbody>\n",
       "    <tr>\n",
       "      <th>0</th>\n",
       "      <td>1</td>\n",
       "      <td>ALPHA</td>\n",
       "      <td>12</td>\n",
       "      <td>0</td>\n",
       "      <td>17</td>\n",
       "      <td>9</td>\n",
       "      <td>19</td>\n",
       "      <td>15</td>\n",
       "    </tr>\n",
       "    <tr>\n",
       "      <th>1</th>\n",
       "      <td>2</td>\n",
       "      <td>ALPHA</td>\n",
       "      <td>19</td>\n",
       "      <td>12</td>\n",
       "      <td>16</td>\n",
       "      <td>16</td>\n",
       "      <td>18</td>\n",
       "      <td>3</td>\n",
       "    </tr>\n",
       "    <tr>\n",
       "      <th>2</th>\n",
       "      <td>3</td>\n",
       "      <td>ALPHA</td>\n",
       "      <td>18</td>\n",
       "      <td>14</td>\n",
       "      <td>18</td>\n",
       "      <td>18</td>\n",
       "      <td>18</td>\n",
       "      <td>16</td>\n",
       "    </tr>\n",
       "    <tr>\n",
       "      <th>3</th>\n",
       "      <td>4</td>\n",
       "      <td>ALPHA</td>\n",
       "      <td>15</td>\n",
       "      <td>9</td>\n",
       "      <td>19</td>\n",
       "      <td>17</td>\n",
       "      <td>19</td>\n",
       "      <td>15</td>\n",
       "    </tr>\n",
       "    <tr>\n",
       "      <th>4</th>\n",
       "      <td>5</td>\n",
       "      <td>ALPHA</td>\n",
       "      <td>18</td>\n",
       "      <td>17</td>\n",
       "      <td>19</td>\n",
       "      <td>19</td>\n",
       "      <td>20</td>\n",
       "      <td>18</td>\n",
       "    </tr>\n",
       "    <tr>\n",
       "      <th>...</th>\n",
       "      <td>...</td>\n",
       "      <td>...</td>\n",
       "      <td>...</td>\n",
       "      <td>...</td>\n",
       "      <td>...</td>\n",
       "      <td>...</td>\n",
       "      <td>...</td>\n",
       "      <td>...</td>\n",
       "    </tr>\n",
       "    <tr>\n",
       "      <th>475</th>\n",
       "      <td>476</td>\n",
       "      <td>Zeta</td>\n",
       "      <td>18</td>\n",
       "      <td>2</td>\n",
       "      <td>12</td>\n",
       "      <td>3</td>\n",
       "      <td>17</td>\n",
       "      <td>15</td>\n",
       "    </tr>\n",
       "    <tr>\n",
       "      <th>476</th>\n",
       "      <td>477</td>\n",
       "      <td>Zeta</td>\n",
       "      <td>20</td>\n",
       "      <td>6</td>\n",
       "      <td>16</td>\n",
       "      <td>11</td>\n",
       "      <td>20</td>\n",
       "      <td>14</td>\n",
       "    </tr>\n",
       "    <tr>\n",
       "      <th>477</th>\n",
       "      <td>478</td>\n",
       "      <td>Zeta</td>\n",
       "      <td>20</td>\n",
       "      <td>NaN</td>\n",
       "      <td>18</td>\n",
       "      <td>13</td>\n",
       "      <td>20</td>\n",
       "      <td>18</td>\n",
       "    </tr>\n",
       "    <tr>\n",
       "      <th>478</th>\n",
       "      <td>479</td>\n",
       "      <td>Zeta</td>\n",
       "      <td>20</td>\n",
       "      <td>20</td>\n",
       "      <td>5</td>\n",
       "      <td>19</td>\n",
       "      <td>18</td>\n",
       "      <td>14</td>\n",
       "    </tr>\n",
       "    <tr>\n",
       "      <th>479</th>\n",
       "      <td>480</td>\n",
       "      <td>Zeta</td>\n",
       "      <td>20</td>\n",
       "      <td>16</td>\n",
       "      <td>18</td>\n",
       "      <td>19</td>\n",
       "      <td>20</td>\n",
       "      <td>19</td>\n",
       "    </tr>\n",
       "  </tbody>\n",
       "</table>\n",
       "<p>480 rows × 8 columns</p>\n",
       "</div>"
      ],
      "text/plain": [
       "     S.NO SECTION  DV M-II  PP BEEE  FL FIMS\n",
       "0       1   ALPHA  12    0  17    9  19   15\n",
       "1       2   ALPHA  19   12  16   16  18    3\n",
       "2       3   ALPHA  18   14  18   18  18   16\n",
       "3       4   ALPHA  15    9  19   17  19   15\n",
       "4       5   ALPHA  18   17  19   19  20   18\n",
       "..    ...     ...  ..  ...  ..  ...  ..  ...\n",
       "475   476    Zeta  18    2  12    3  17   15\n",
       "476   477    Zeta  20    6  16   11  20   14\n",
       "477   478    Zeta  20  NaN  18   13  20   18\n",
       "478   479    Zeta  20   20   5   19  18   14\n",
       "479   480    Zeta  20   16  18   19  20   19\n",
       "\n",
       "[480 rows x 8 columns]"
      ]
     },
     "execution_count": 4,
     "metadata": {},
     "output_type": "execute_result"
    }
   ],
   "source": [
    "df['SECTION'] = df['SECTION'].fillna('Zeta') \n",
    "df['SECTION'] = df['SECTION'].replace('', 'Zeta')\n",
    "df"
   ]
  },
  {
   "cell_type": "code",
   "execution_count": 5,
   "id": "26dbe859-5be0-434d-b60d-667fba0ca3f3",
   "metadata": {},
   "outputs": [],
   "source": [
    "df.rename(columns={'M-II':'M2'},inplace=True) "
   ]
  },
  {
   "cell_type": "code",
   "execution_count": 6,
   "id": "c8e10225-baa8-4451-b647-762266e1e089",
   "metadata": {},
   "outputs": [
    {
     "name": "stdout",
     "output_type": "stream",
     "text": [
      "<class 'pandas.core.frame.DataFrame'>\n",
      "RangeIndex: 480 entries, 0 to 479\n",
      "Data columns (total 8 columns):\n",
      " #   Column   Non-Null Count  Dtype \n",
      "---  ------   --------------  ----- \n",
      " 0   S.NO     480 non-null    int64 \n",
      " 1   SECTION  480 non-null    object\n",
      " 2   DV       479 non-null    object\n",
      " 3   M2       477 non-null    object\n",
      " 4   PP       480 non-null    object\n",
      " 5   BEEE     478 non-null    object\n",
      " 6   FL       479 non-null    object\n",
      " 7   FIMS     480 non-null    object\n",
      "dtypes: int64(1), object(7)\n",
      "memory usage: 30.1+ KB\n"
     ]
    }
   ],
   "source": [
    "df.info()"
   ]
  },
  {
   "cell_type": "markdown",
   "id": "41a4be97-5b1e-43e9-9509-8b25fcea774f",
   "metadata": {},
   "source": [
    "# Renaming M-II as M2"
   ]
  },
  {
   "cell_type": "code",
   "execution_count": 7,
   "id": "da308cdc-c07c-4f86-94bc-9a22af4db3eb",
   "metadata": {},
   "outputs": [
    {
     "data": {
      "text/html": [
       "<div>\n",
       "<style scoped>\n",
       "    .dataframe tbody tr th:only-of-type {\n",
       "        vertical-align: middle;\n",
       "    }\n",
       "\n",
       "    .dataframe tbody tr th {\n",
       "        vertical-align: top;\n",
       "    }\n",
       "\n",
       "    .dataframe thead th {\n",
       "        text-align: right;\n",
       "    }\n",
       "</style>\n",
       "<table border=\"1\" class=\"dataframe\">\n",
       "  <thead>\n",
       "    <tr style=\"text-align: right;\">\n",
       "      <th></th>\n",
       "      <th>S.NO</th>\n",
       "      <th>SECTION</th>\n",
       "      <th>DV</th>\n",
       "      <th>M2</th>\n",
       "      <th>PP</th>\n",
       "      <th>BEEE</th>\n",
       "      <th>FL</th>\n",
       "      <th>FIMS</th>\n",
       "    </tr>\n",
       "  </thead>\n",
       "  <tbody>\n",
       "    <tr>\n",
       "      <th>0</th>\n",
       "      <td>1</td>\n",
       "      <td>ALPHA</td>\n",
       "      <td>12</td>\n",
       "      <td>0</td>\n",
       "      <td>17</td>\n",
       "      <td>9</td>\n",
       "      <td>19</td>\n",
       "      <td>15</td>\n",
       "    </tr>\n",
       "    <tr>\n",
       "      <th>1</th>\n",
       "      <td>2</td>\n",
       "      <td>ALPHA</td>\n",
       "      <td>19</td>\n",
       "      <td>12</td>\n",
       "      <td>16</td>\n",
       "      <td>16</td>\n",
       "      <td>18</td>\n",
       "      <td>3</td>\n",
       "    </tr>\n",
       "    <tr>\n",
       "      <th>2</th>\n",
       "      <td>3</td>\n",
       "      <td>ALPHA</td>\n",
       "      <td>18</td>\n",
       "      <td>14</td>\n",
       "      <td>18</td>\n",
       "      <td>18</td>\n",
       "      <td>18</td>\n",
       "      <td>16</td>\n",
       "    </tr>\n",
       "    <tr>\n",
       "      <th>3</th>\n",
       "      <td>4</td>\n",
       "      <td>ALPHA</td>\n",
       "      <td>15</td>\n",
       "      <td>9</td>\n",
       "      <td>19</td>\n",
       "      <td>17</td>\n",
       "      <td>19</td>\n",
       "      <td>15</td>\n",
       "    </tr>\n",
       "    <tr>\n",
       "      <th>4</th>\n",
       "      <td>5</td>\n",
       "      <td>ALPHA</td>\n",
       "      <td>18</td>\n",
       "      <td>17</td>\n",
       "      <td>19</td>\n",
       "      <td>19</td>\n",
       "      <td>20</td>\n",
       "      <td>18</td>\n",
       "    </tr>\n",
       "    <tr>\n",
       "      <th>...</th>\n",
       "      <td>...</td>\n",
       "      <td>...</td>\n",
       "      <td>...</td>\n",
       "      <td>...</td>\n",
       "      <td>...</td>\n",
       "      <td>...</td>\n",
       "      <td>...</td>\n",
       "      <td>...</td>\n",
       "    </tr>\n",
       "    <tr>\n",
       "      <th>475</th>\n",
       "      <td>476</td>\n",
       "      <td>Zeta</td>\n",
       "      <td>18</td>\n",
       "      <td>2</td>\n",
       "      <td>12</td>\n",
       "      <td>3</td>\n",
       "      <td>17</td>\n",
       "      <td>15</td>\n",
       "    </tr>\n",
       "    <tr>\n",
       "      <th>476</th>\n",
       "      <td>477</td>\n",
       "      <td>Zeta</td>\n",
       "      <td>20</td>\n",
       "      <td>6</td>\n",
       "      <td>16</td>\n",
       "      <td>11</td>\n",
       "      <td>20</td>\n",
       "      <td>14</td>\n",
       "    </tr>\n",
       "    <tr>\n",
       "      <th>477</th>\n",
       "      <td>478</td>\n",
       "      <td>Zeta</td>\n",
       "      <td>20</td>\n",
       "      <td>NaN</td>\n",
       "      <td>18</td>\n",
       "      <td>13</td>\n",
       "      <td>20</td>\n",
       "      <td>18</td>\n",
       "    </tr>\n",
       "    <tr>\n",
       "      <th>478</th>\n",
       "      <td>479</td>\n",
       "      <td>Zeta</td>\n",
       "      <td>20</td>\n",
       "      <td>20</td>\n",
       "      <td>5</td>\n",
       "      <td>19</td>\n",
       "      <td>18</td>\n",
       "      <td>14</td>\n",
       "    </tr>\n",
       "    <tr>\n",
       "      <th>479</th>\n",
       "      <td>480</td>\n",
       "      <td>Zeta</td>\n",
       "      <td>20</td>\n",
       "      <td>16</td>\n",
       "      <td>18</td>\n",
       "      <td>19</td>\n",
       "      <td>20</td>\n",
       "      <td>19</td>\n",
       "    </tr>\n",
       "  </tbody>\n",
       "</table>\n",
       "<p>480 rows × 8 columns</p>\n",
       "</div>"
      ],
      "text/plain": [
       "     S.NO SECTION  DV   M2  PP BEEE  FL FIMS\n",
       "0       1   ALPHA  12    0  17    9  19   15\n",
       "1       2   ALPHA  19   12  16   16  18    3\n",
       "2       3   ALPHA  18   14  18   18  18   16\n",
       "3       4   ALPHA  15    9  19   17  19   15\n",
       "4       5   ALPHA  18   17  19   19  20   18\n",
       "..    ...     ...  ..  ...  ..  ...  ..  ...\n",
       "475   476    Zeta  18    2  12    3  17   15\n",
       "476   477    Zeta  20    6  16   11  20   14\n",
       "477   478    Zeta  20  NaN  18   13  20   18\n",
       "478   479    Zeta  20   20   5   19  18   14\n",
       "479   480    Zeta  20   16  18   19  20   19\n",
       "\n",
       "[480 rows x 8 columns]"
      ]
     },
     "execution_count": 7,
     "metadata": {},
     "output_type": "execute_result"
    }
   ],
   "source": [
    "df['S.NO'] = range(1, len(df) + 1)\n",
    "df"
   ]
  },
  {
   "cell_type": "code",
   "execution_count": 8,
   "id": "80ca99ce-48be-427e-812d-59e51d6be3fc",
   "metadata": {},
   "outputs": [
    {
     "data": {
      "text/html": [
       "<div>\n",
       "<style scoped>\n",
       "    .dataframe tbody tr th:only-of-type {\n",
       "        vertical-align: middle;\n",
       "    }\n",
       "\n",
       "    .dataframe tbody tr th {\n",
       "        vertical-align: top;\n",
       "    }\n",
       "\n",
       "    .dataframe thead th {\n",
       "        text-align: right;\n",
       "    }\n",
       "</style>\n",
       "<table border=\"1\" class=\"dataframe\">\n",
       "  <thead>\n",
       "    <tr style=\"text-align: right;\">\n",
       "      <th></th>\n",
       "      <th>S.NO</th>\n",
       "      <th>SECTION</th>\n",
       "      <th>DV</th>\n",
       "      <th>M2</th>\n",
       "      <th>PP</th>\n",
       "      <th>BEEE</th>\n",
       "      <th>FL</th>\n",
       "      <th>FIMS</th>\n",
       "    </tr>\n",
       "  </thead>\n",
       "  <tbody>\n",
       "    <tr>\n",
       "      <th>0</th>\n",
       "      <td>1</td>\n",
       "      <td>ALPHA</td>\n",
       "      <td>12</td>\n",
       "      <td>0</td>\n",
       "      <td>17</td>\n",
       "      <td>9</td>\n",
       "      <td>19</td>\n",
       "      <td>15</td>\n",
       "    </tr>\n",
       "    <tr>\n",
       "      <th>1</th>\n",
       "      <td>2</td>\n",
       "      <td>ALPHA</td>\n",
       "      <td>19</td>\n",
       "      <td>12</td>\n",
       "      <td>16</td>\n",
       "      <td>16</td>\n",
       "      <td>18</td>\n",
       "      <td>3</td>\n",
       "    </tr>\n",
       "    <tr>\n",
       "      <th>2</th>\n",
       "      <td>3</td>\n",
       "      <td>ALPHA</td>\n",
       "      <td>18</td>\n",
       "      <td>14</td>\n",
       "      <td>18</td>\n",
       "      <td>18</td>\n",
       "      <td>18</td>\n",
       "      <td>16</td>\n",
       "    </tr>\n",
       "    <tr>\n",
       "      <th>3</th>\n",
       "      <td>4</td>\n",
       "      <td>ALPHA</td>\n",
       "      <td>15</td>\n",
       "      <td>9</td>\n",
       "      <td>19</td>\n",
       "      <td>17</td>\n",
       "      <td>19</td>\n",
       "      <td>15</td>\n",
       "    </tr>\n",
       "    <tr>\n",
       "      <th>4</th>\n",
       "      <td>5</td>\n",
       "      <td>ALPHA</td>\n",
       "      <td>18</td>\n",
       "      <td>17</td>\n",
       "      <td>19</td>\n",
       "      <td>19</td>\n",
       "      <td>20</td>\n",
       "      <td>18</td>\n",
       "    </tr>\n",
       "    <tr>\n",
       "      <th>...</th>\n",
       "      <td>...</td>\n",
       "      <td>...</td>\n",
       "      <td>...</td>\n",
       "      <td>...</td>\n",
       "      <td>...</td>\n",
       "      <td>...</td>\n",
       "      <td>...</td>\n",
       "      <td>...</td>\n",
       "    </tr>\n",
       "    <tr>\n",
       "      <th>475</th>\n",
       "      <td>476</td>\n",
       "      <td>Zeta</td>\n",
       "      <td>18</td>\n",
       "      <td>2</td>\n",
       "      <td>12</td>\n",
       "      <td>3</td>\n",
       "      <td>17</td>\n",
       "      <td>15</td>\n",
       "    </tr>\n",
       "    <tr>\n",
       "      <th>476</th>\n",
       "      <td>477</td>\n",
       "      <td>Zeta</td>\n",
       "      <td>20</td>\n",
       "      <td>6</td>\n",
       "      <td>16</td>\n",
       "      <td>11</td>\n",
       "      <td>20</td>\n",
       "      <td>14</td>\n",
       "    </tr>\n",
       "    <tr>\n",
       "      <th>477</th>\n",
       "      <td>478</td>\n",
       "      <td>Zeta</td>\n",
       "      <td>20</td>\n",
       "      <td>NaN</td>\n",
       "      <td>18</td>\n",
       "      <td>13</td>\n",
       "      <td>20</td>\n",
       "      <td>18</td>\n",
       "    </tr>\n",
       "    <tr>\n",
       "      <th>478</th>\n",
       "      <td>479</td>\n",
       "      <td>Zeta</td>\n",
       "      <td>20</td>\n",
       "      <td>20</td>\n",
       "      <td>5</td>\n",
       "      <td>19</td>\n",
       "      <td>18</td>\n",
       "      <td>14</td>\n",
       "    </tr>\n",
       "    <tr>\n",
       "      <th>479</th>\n",
       "      <td>480</td>\n",
       "      <td>Zeta</td>\n",
       "      <td>20</td>\n",
       "      <td>16</td>\n",
       "      <td>18</td>\n",
       "      <td>19</td>\n",
       "      <td>20</td>\n",
       "      <td>19</td>\n",
       "    </tr>\n",
       "  </tbody>\n",
       "</table>\n",
       "<p>480 rows × 8 columns</p>\n",
       "</div>"
      ],
      "text/plain": [
       "     S.NO SECTION  DV   M2  PP BEEE  FL FIMS\n",
       "0       1   ALPHA  12    0  17    9  19   15\n",
       "1       2   ALPHA  19   12  16   16  18    3\n",
       "2       3   ALPHA  18   14  18   18  18   16\n",
       "3       4   ALPHA  15    9  19   17  19   15\n",
       "4       5   ALPHA  18   17  19   19  20   18\n",
       "..    ...     ...  ..  ...  ..  ...  ..  ...\n",
       "475   476    Zeta  18    2  12    3  17   15\n",
       "476   477    Zeta  20    6  16   11  20   14\n",
       "477   478    Zeta  20  NaN  18   13  20   18\n",
       "478   479    Zeta  20   20   5   19  18   14\n",
       "479   480    Zeta  20   16  18   19  20   19\n",
       "\n",
       "[480 rows x 8 columns]"
      ]
     },
     "execution_count": 8,
     "metadata": {},
     "output_type": "execute_result"
    }
   ],
   "source": [
    "df.rename(index={'AB': '0'}, inplace=True)\n",
    "df"
   ]
  },
  {
   "cell_type": "code",
   "execution_count": 19,
   "id": "94d211c8-1221-4ea4-91db-e67203f07c8b",
   "metadata": {},
   "outputs": [
    {
     "name": "stderr",
     "output_type": "stream",
     "text": [
      "C:\\Users\\bhara\\AppData\\Local\\Temp\\ipykernel_13444\\2890049753.py:1: SettingWithCopyWarning: \n",
      "A value is trying to be set on a copy of a slice from a DataFrame.\n",
      "Try using .loc[row_indexer,col_indexer] = value instead\n",
      "\n",
      "See the caveats in the documentation: https://pandas.pydata.org/pandas-docs/stable/user_guide/indexing.html#returning-a-view-versus-a-copy\n",
      "  df['FL'] = df['FL'].fillna(0)\n"
     ]
    },
    {
     "data": {
      "text/html": [
       "<div>\n",
       "<style scoped>\n",
       "    .dataframe tbody tr th:only-of-type {\n",
       "        vertical-align: middle;\n",
       "    }\n",
       "\n",
       "    .dataframe tbody tr th {\n",
       "        vertical-align: top;\n",
       "    }\n",
       "\n",
       "    .dataframe thead th {\n",
       "        text-align: right;\n",
       "    }\n",
       "</style>\n",
       "<table border=\"1\" class=\"dataframe\">\n",
       "  <thead>\n",
       "    <tr style=\"text-align: right;\">\n",
       "      <th></th>\n",
       "      <th>S.NO</th>\n",
       "      <th>SECTION</th>\n",
       "      <th>DV</th>\n",
       "      <th>M2</th>\n",
       "      <th>PP</th>\n",
       "      <th>BEEE</th>\n",
       "      <th>FL</th>\n",
       "      <th>FIMS</th>\n",
       "    </tr>\n",
       "  </thead>\n",
       "  <tbody>\n",
       "    <tr>\n",
       "      <th>0</th>\n",
       "      <td>1</td>\n",
       "      <td>ALPHA</td>\n",
       "      <td>12.0</td>\n",
       "      <td>0.0</td>\n",
       "      <td>17.0</td>\n",
       "      <td>9.0</td>\n",
       "      <td>19.0</td>\n",
       "      <td>15.0</td>\n",
       "    </tr>\n",
       "    <tr>\n",
       "      <th>1</th>\n",
       "      <td>2</td>\n",
       "      <td>ALPHA</td>\n",
       "      <td>19.0</td>\n",
       "      <td>12.0</td>\n",
       "      <td>16.0</td>\n",
       "      <td>16.0</td>\n",
       "      <td>18.0</td>\n",
       "      <td>3.0</td>\n",
       "    </tr>\n",
       "    <tr>\n",
       "      <th>2</th>\n",
       "      <td>3</td>\n",
       "      <td>ALPHA</td>\n",
       "      <td>18.0</td>\n",
       "      <td>14.0</td>\n",
       "      <td>18.0</td>\n",
       "      <td>18.0</td>\n",
       "      <td>18.0</td>\n",
       "      <td>16.0</td>\n",
       "    </tr>\n",
       "    <tr>\n",
       "      <th>3</th>\n",
       "      <td>4</td>\n",
       "      <td>ALPHA</td>\n",
       "      <td>15.0</td>\n",
       "      <td>9.0</td>\n",
       "      <td>19.0</td>\n",
       "      <td>17.0</td>\n",
       "      <td>19.0</td>\n",
       "      <td>15.0</td>\n",
       "    </tr>\n",
       "    <tr>\n",
       "      <th>4</th>\n",
       "      <td>5</td>\n",
       "      <td>ALPHA</td>\n",
       "      <td>18.0</td>\n",
       "      <td>17.0</td>\n",
       "      <td>19.0</td>\n",
       "      <td>19.0</td>\n",
       "      <td>20.0</td>\n",
       "      <td>18.0</td>\n",
       "    </tr>\n",
       "    <tr>\n",
       "      <th>...</th>\n",
       "      <td>...</td>\n",
       "      <td>...</td>\n",
       "      <td>...</td>\n",
       "      <td>...</td>\n",
       "      <td>...</td>\n",
       "      <td>...</td>\n",
       "      <td>...</td>\n",
       "      <td>...</td>\n",
       "    </tr>\n",
       "    <tr>\n",
       "      <th>474</th>\n",
       "      <td>475</td>\n",
       "      <td>Zeta</td>\n",
       "      <td>11.0</td>\n",
       "      <td>4.0</td>\n",
       "      <td>2.0</td>\n",
       "      <td>2.0</td>\n",
       "      <td>8.0</td>\n",
       "      <td>10.0</td>\n",
       "    </tr>\n",
       "    <tr>\n",
       "      <th>475</th>\n",
       "      <td>476</td>\n",
       "      <td>Zeta</td>\n",
       "      <td>18.0</td>\n",
       "      <td>2.0</td>\n",
       "      <td>12.0</td>\n",
       "      <td>3.0</td>\n",
       "      <td>17.0</td>\n",
       "      <td>15.0</td>\n",
       "    </tr>\n",
       "    <tr>\n",
       "      <th>476</th>\n",
       "      <td>477</td>\n",
       "      <td>Zeta</td>\n",
       "      <td>20.0</td>\n",
       "      <td>6.0</td>\n",
       "      <td>16.0</td>\n",
       "      <td>11.0</td>\n",
       "      <td>20.0</td>\n",
       "      <td>14.0</td>\n",
       "    </tr>\n",
       "    <tr>\n",
       "      <th>478</th>\n",
       "      <td>479</td>\n",
       "      <td>Zeta</td>\n",
       "      <td>20.0</td>\n",
       "      <td>20.0</td>\n",
       "      <td>5.0</td>\n",
       "      <td>19.0</td>\n",
       "      <td>18.0</td>\n",
       "      <td>14.0</td>\n",
       "    </tr>\n",
       "    <tr>\n",
       "      <th>479</th>\n",
       "      <td>480</td>\n",
       "      <td>Zeta</td>\n",
       "      <td>20.0</td>\n",
       "      <td>16.0</td>\n",
       "      <td>18.0</td>\n",
       "      <td>19.0</td>\n",
       "      <td>20.0</td>\n",
       "      <td>19.0</td>\n",
       "    </tr>\n",
       "  </tbody>\n",
       "</table>\n",
       "<p>474 rows × 8 columns</p>\n",
       "</div>"
      ],
      "text/plain": [
       "     S.NO SECTION    DV    M2    PP  BEEE    FL  FIMS\n",
       "0       1   ALPHA  12.0   0.0  17.0   9.0  19.0  15.0\n",
       "1       2   ALPHA  19.0  12.0  16.0  16.0  18.0   3.0\n",
       "2       3   ALPHA  18.0  14.0  18.0  18.0  18.0  16.0\n",
       "3       4   ALPHA  15.0   9.0  19.0  17.0  19.0  15.0\n",
       "4       5   ALPHA  18.0  17.0  19.0  19.0  20.0  18.0\n",
       "..    ...     ...   ...   ...   ...   ...   ...   ...\n",
       "474   475    Zeta  11.0   4.0   2.0   2.0   8.0  10.0\n",
       "475   476    Zeta  18.0   2.0  12.0   3.0  17.0  15.0\n",
       "476   477    Zeta  20.0   6.0  16.0  11.0  20.0  14.0\n",
       "478   479    Zeta  20.0  20.0   5.0  19.0  18.0  14.0\n",
       "479   480    Zeta  20.0  16.0  18.0  19.0  20.0  19.0\n",
       "\n",
       "[474 rows x 8 columns]"
      ]
     },
     "execution_count": 19,
     "metadata": {},
     "output_type": "execute_result"
    }
   ],
   "source": [
    "df['FL'] = df['FL'].fillna(0) \n",
    "df=df.dropna()\n",
    "df"
   ]
  },
  {
   "cell_type": "code",
   "execution_count": 20,
   "id": "627a56b3-5608-4946-a208-590ddc90660f",
   "metadata": {},
   "outputs": [
    {
     "name": "stdout",
     "output_type": "stream",
     "text": [
      "     S.NO SECTION    DV    M2    PP  BEEE    FL  FIMS\n",
      "0       1   ALPHA  12.0   0.0  17.0   9.0  19.0  15.0\n",
      "1       2   ALPHA  19.0  12.0  16.0  16.0  18.0   3.0\n",
      "2       3   ALPHA  18.0  14.0  18.0  18.0  18.0  16.0\n",
      "3       4   ALPHA  15.0   9.0  19.0  17.0  19.0  15.0\n",
      "4       5   ALPHA  18.0  17.0  19.0  19.0  20.0  18.0\n",
      "..    ...     ...   ...   ...   ...   ...   ...   ...\n",
      "474   475    Zeta  11.0   4.0   2.0   2.0   8.0  10.0\n",
      "475   476    Zeta  18.0   2.0  12.0   3.0  17.0  15.0\n",
      "476   477    Zeta  20.0   6.0  16.0  11.0  20.0  14.0\n",
      "478   479    Zeta  20.0  20.0   5.0  19.0  18.0  14.0\n",
      "479   480    Zeta  20.0  16.0  18.0  19.0  20.0  19.0\n",
      "\n",
      "[474 rows x 8 columns]\n"
     ]
    }
   ],
   "source": [
    "\n",
    "df['DV'] = df['DV'].replace(['AB', 'Mp'], 0)\n",
    "\n",
    "print(df)\n"
   ]
  },
  {
   "cell_type": "code",
   "execution_count": 21,
   "id": "852296a8-f2cf-4698-b0da-1a81cb221a3c",
   "metadata": {},
   "outputs": [
    {
     "data": {
      "text/html": [
       "<div>\n",
       "<style scoped>\n",
       "    .dataframe tbody tr th:only-of-type {\n",
       "        vertical-align: middle;\n",
       "    }\n",
       "\n",
       "    .dataframe tbody tr th {\n",
       "        vertical-align: top;\n",
       "    }\n",
       "\n",
       "    .dataframe thead th {\n",
       "        text-align: right;\n",
       "    }\n",
       "</style>\n",
       "<table border=\"1\" class=\"dataframe\">\n",
       "  <thead>\n",
       "    <tr style=\"text-align: right;\">\n",
       "      <th></th>\n",
       "      <th>S.NO</th>\n",
       "      <th>SECTION</th>\n",
       "      <th>DV</th>\n",
       "      <th>M2</th>\n",
       "      <th>PP</th>\n",
       "      <th>BEEE</th>\n",
       "      <th>FL</th>\n",
       "      <th>FIMS</th>\n",
       "    </tr>\n",
       "  </thead>\n",
       "  <tbody>\n",
       "    <tr>\n",
       "      <th>0</th>\n",
       "      <td>1</td>\n",
       "      <td>ALPHA</td>\n",
       "      <td>12.0</td>\n",
       "      <td>0.0</td>\n",
       "      <td>17.0</td>\n",
       "      <td>9.0</td>\n",
       "      <td>19.0</td>\n",
       "      <td>15.0</td>\n",
       "    </tr>\n",
       "    <tr>\n",
       "      <th>1</th>\n",
       "      <td>2</td>\n",
       "      <td>ALPHA</td>\n",
       "      <td>19.0</td>\n",
       "      <td>12.0</td>\n",
       "      <td>16.0</td>\n",
       "      <td>16.0</td>\n",
       "      <td>18.0</td>\n",
       "      <td>3.0</td>\n",
       "    </tr>\n",
       "    <tr>\n",
       "      <th>2</th>\n",
       "      <td>3</td>\n",
       "      <td>ALPHA</td>\n",
       "      <td>18.0</td>\n",
       "      <td>14.0</td>\n",
       "      <td>18.0</td>\n",
       "      <td>18.0</td>\n",
       "      <td>18.0</td>\n",
       "      <td>16.0</td>\n",
       "    </tr>\n",
       "    <tr>\n",
       "      <th>3</th>\n",
       "      <td>4</td>\n",
       "      <td>ALPHA</td>\n",
       "      <td>15.0</td>\n",
       "      <td>9.0</td>\n",
       "      <td>19.0</td>\n",
       "      <td>17.0</td>\n",
       "      <td>19.0</td>\n",
       "      <td>15.0</td>\n",
       "    </tr>\n",
       "    <tr>\n",
       "      <th>4</th>\n",
       "      <td>5</td>\n",
       "      <td>ALPHA</td>\n",
       "      <td>18.0</td>\n",
       "      <td>17.0</td>\n",
       "      <td>19.0</td>\n",
       "      <td>19.0</td>\n",
       "      <td>20.0</td>\n",
       "      <td>18.0</td>\n",
       "    </tr>\n",
       "    <tr>\n",
       "      <th>...</th>\n",
       "      <td>...</td>\n",
       "      <td>...</td>\n",
       "      <td>...</td>\n",
       "      <td>...</td>\n",
       "      <td>...</td>\n",
       "      <td>...</td>\n",
       "      <td>...</td>\n",
       "      <td>...</td>\n",
       "    </tr>\n",
       "    <tr>\n",
       "      <th>474</th>\n",
       "      <td>475</td>\n",
       "      <td>Zeta</td>\n",
       "      <td>11.0</td>\n",
       "      <td>4.0</td>\n",
       "      <td>2.0</td>\n",
       "      <td>2.0</td>\n",
       "      <td>8.0</td>\n",
       "      <td>10.0</td>\n",
       "    </tr>\n",
       "    <tr>\n",
       "      <th>475</th>\n",
       "      <td>476</td>\n",
       "      <td>Zeta</td>\n",
       "      <td>18.0</td>\n",
       "      <td>2.0</td>\n",
       "      <td>12.0</td>\n",
       "      <td>3.0</td>\n",
       "      <td>17.0</td>\n",
       "      <td>15.0</td>\n",
       "    </tr>\n",
       "    <tr>\n",
       "      <th>476</th>\n",
       "      <td>477</td>\n",
       "      <td>Zeta</td>\n",
       "      <td>20.0</td>\n",
       "      <td>6.0</td>\n",
       "      <td>16.0</td>\n",
       "      <td>11.0</td>\n",
       "      <td>20.0</td>\n",
       "      <td>14.0</td>\n",
       "    </tr>\n",
       "    <tr>\n",
       "      <th>478</th>\n",
       "      <td>479</td>\n",
       "      <td>Zeta</td>\n",
       "      <td>20.0</td>\n",
       "      <td>20.0</td>\n",
       "      <td>5.0</td>\n",
       "      <td>19.0</td>\n",
       "      <td>18.0</td>\n",
       "      <td>14.0</td>\n",
       "    </tr>\n",
       "    <tr>\n",
       "      <th>479</th>\n",
       "      <td>480</td>\n",
       "      <td>Zeta</td>\n",
       "      <td>20.0</td>\n",
       "      <td>16.0</td>\n",
       "      <td>18.0</td>\n",
       "      <td>19.0</td>\n",
       "      <td>20.0</td>\n",
       "      <td>19.0</td>\n",
       "    </tr>\n",
       "  </tbody>\n",
       "</table>\n",
       "<p>474 rows × 8 columns</p>\n",
       "</div>"
      ],
      "text/plain": [
       "     S.NO SECTION    DV    M2    PP  BEEE    FL  FIMS\n",
       "0       1   ALPHA  12.0   0.0  17.0   9.0  19.0  15.0\n",
       "1       2   ALPHA  19.0  12.0  16.0  16.0  18.0   3.0\n",
       "2       3   ALPHA  18.0  14.0  18.0  18.0  18.0  16.0\n",
       "3       4   ALPHA  15.0   9.0  19.0  17.0  19.0  15.0\n",
       "4       5   ALPHA  18.0  17.0  19.0  19.0  20.0  18.0\n",
       "..    ...     ...   ...   ...   ...   ...   ...   ...\n",
       "474   475    Zeta  11.0   4.0   2.0   2.0   8.0  10.0\n",
       "475   476    Zeta  18.0   2.0  12.0   3.0  17.0  15.0\n",
       "476   477    Zeta  20.0   6.0  16.0  11.0  20.0  14.0\n",
       "478   479    Zeta  20.0  20.0   5.0  19.0  18.0  14.0\n",
       "479   480    Zeta  20.0  16.0  18.0  19.0  20.0  19.0\n",
       "\n",
       "[474 rows x 8 columns]"
      ]
     },
     "execution_count": 21,
     "metadata": {},
     "output_type": "execute_result"
    }
   ],
   "source": [
    "df['SECTION'] = df['SECTION'].fillna('ZETA')\n",
    "df"
   ]
  },
  {
   "cell_type": "code",
   "execution_count": 22,
   "id": "d53f4dc9-c328-4973-9fa7-194864dbca44",
   "metadata": {},
   "outputs": [
    {
     "data": {
      "text/html": [
       "<div>\n",
       "<style scoped>\n",
       "    .dataframe tbody tr th:only-of-type {\n",
       "        vertical-align: middle;\n",
       "    }\n",
       "\n",
       "    .dataframe tbody tr th {\n",
       "        vertical-align: top;\n",
       "    }\n",
       "\n",
       "    .dataframe thead th {\n",
       "        text-align: right;\n",
       "    }\n",
       "</style>\n",
       "<table border=\"1\" class=\"dataframe\">\n",
       "  <thead>\n",
       "    <tr style=\"text-align: right;\">\n",
       "      <th></th>\n",
       "      <th>S.NO</th>\n",
       "      <th>SECTION</th>\n",
       "      <th>DV</th>\n",
       "      <th>M2</th>\n",
       "      <th>PP</th>\n",
       "      <th>BEEE</th>\n",
       "      <th>FL</th>\n",
       "      <th>FIMS</th>\n",
       "    </tr>\n",
       "  </thead>\n",
       "  <tbody>\n",
       "    <tr>\n",
       "      <th>0</th>\n",
       "      <td>1</td>\n",
       "      <td>ALPHA</td>\n",
       "      <td>12.0</td>\n",
       "      <td>0.0</td>\n",
       "      <td>17.0</td>\n",
       "      <td>9.0</td>\n",
       "      <td>19.0</td>\n",
       "      <td>15.0</td>\n",
       "    </tr>\n",
       "    <tr>\n",
       "      <th>1</th>\n",
       "      <td>2</td>\n",
       "      <td>ALPHA</td>\n",
       "      <td>19.0</td>\n",
       "      <td>12.0</td>\n",
       "      <td>16.0</td>\n",
       "      <td>16.0</td>\n",
       "      <td>18.0</td>\n",
       "      <td>3.0</td>\n",
       "    </tr>\n",
       "    <tr>\n",
       "      <th>2</th>\n",
       "      <td>3</td>\n",
       "      <td>ALPHA</td>\n",
       "      <td>18.0</td>\n",
       "      <td>14.0</td>\n",
       "      <td>18.0</td>\n",
       "      <td>18.0</td>\n",
       "      <td>18.0</td>\n",
       "      <td>16.0</td>\n",
       "    </tr>\n",
       "    <tr>\n",
       "      <th>3</th>\n",
       "      <td>4</td>\n",
       "      <td>ALPHA</td>\n",
       "      <td>15.0</td>\n",
       "      <td>9.0</td>\n",
       "      <td>19.0</td>\n",
       "      <td>17.0</td>\n",
       "      <td>19.0</td>\n",
       "      <td>15.0</td>\n",
       "    </tr>\n",
       "    <tr>\n",
       "      <th>4</th>\n",
       "      <td>5</td>\n",
       "      <td>ALPHA</td>\n",
       "      <td>18.0</td>\n",
       "      <td>17.0</td>\n",
       "      <td>19.0</td>\n",
       "      <td>19.0</td>\n",
       "      <td>20.0</td>\n",
       "      <td>18.0</td>\n",
       "    </tr>\n",
       "    <tr>\n",
       "      <th>...</th>\n",
       "      <td>...</td>\n",
       "      <td>...</td>\n",
       "      <td>...</td>\n",
       "      <td>...</td>\n",
       "      <td>...</td>\n",
       "      <td>...</td>\n",
       "      <td>...</td>\n",
       "      <td>...</td>\n",
       "    </tr>\n",
       "    <tr>\n",
       "      <th>474</th>\n",
       "      <td>475</td>\n",
       "      <td>Zeta</td>\n",
       "      <td>11.0</td>\n",
       "      <td>4.0</td>\n",
       "      <td>2.0</td>\n",
       "      <td>2.0</td>\n",
       "      <td>8.0</td>\n",
       "      <td>10.0</td>\n",
       "    </tr>\n",
       "    <tr>\n",
       "      <th>475</th>\n",
       "      <td>476</td>\n",
       "      <td>Zeta</td>\n",
       "      <td>18.0</td>\n",
       "      <td>2.0</td>\n",
       "      <td>12.0</td>\n",
       "      <td>3.0</td>\n",
       "      <td>17.0</td>\n",
       "      <td>15.0</td>\n",
       "    </tr>\n",
       "    <tr>\n",
       "      <th>476</th>\n",
       "      <td>477</td>\n",
       "      <td>Zeta</td>\n",
       "      <td>20.0</td>\n",
       "      <td>6.0</td>\n",
       "      <td>16.0</td>\n",
       "      <td>11.0</td>\n",
       "      <td>20.0</td>\n",
       "      <td>14.0</td>\n",
       "    </tr>\n",
       "    <tr>\n",
       "      <th>478</th>\n",
       "      <td>479</td>\n",
       "      <td>Zeta</td>\n",
       "      <td>20.0</td>\n",
       "      <td>20.0</td>\n",
       "      <td>5.0</td>\n",
       "      <td>19.0</td>\n",
       "      <td>18.0</td>\n",
       "      <td>14.0</td>\n",
       "    </tr>\n",
       "    <tr>\n",
       "      <th>479</th>\n",
       "      <td>480</td>\n",
       "      <td>Zeta</td>\n",
       "      <td>20.0</td>\n",
       "      <td>16.0</td>\n",
       "      <td>18.0</td>\n",
       "      <td>19.0</td>\n",
       "      <td>20.0</td>\n",
       "      <td>19.0</td>\n",
       "    </tr>\n",
       "  </tbody>\n",
       "</table>\n",
       "<p>474 rows × 8 columns</p>\n",
       "</div>"
      ],
      "text/plain": [
       "     S.NO SECTION    DV    M2    PP  BEEE    FL  FIMS\n",
       "0       1   ALPHA  12.0   0.0  17.0   9.0  19.0  15.0\n",
       "1       2   ALPHA  19.0  12.0  16.0  16.0  18.0   3.0\n",
       "2       3   ALPHA  18.0  14.0  18.0  18.0  18.0  16.0\n",
       "3       4   ALPHA  15.0   9.0  19.0  17.0  19.0  15.0\n",
       "4       5   ALPHA  18.0  17.0  19.0  19.0  20.0  18.0\n",
       "..    ...     ...   ...   ...   ...   ...   ...   ...\n",
       "474   475    Zeta  11.0   4.0   2.0   2.0   8.0  10.0\n",
       "475   476    Zeta  18.0   2.0  12.0   3.0  17.0  15.0\n",
       "476   477    Zeta  20.0   6.0  16.0  11.0  20.0  14.0\n",
       "478   479    Zeta  20.0  20.0   5.0  19.0  18.0  14.0\n",
       "479   480    Zeta  20.0  16.0  18.0  19.0  20.0  19.0\n",
       "\n",
       "[474 rows x 8 columns]"
      ]
     },
     "execution_count": 22,
     "metadata": {},
     "output_type": "execute_result"
    }
   ],
   "source": [
    "\n",
    "\n",
    "\n",
    "df['DV'] = df['DV'].replace(['MP'], 0)\n",
    "df"
   ]
  },
  {
   "cell_type": "code",
   "execution_count": 23,
   "id": "11e54533-b346-4645-86eb-015bb90f8ca0",
   "metadata": {},
   "outputs": [
    {
     "name": "stdout",
     "output_type": "stream",
     "text": [
      "<class 'pandas.core.frame.DataFrame'>\n",
      "Index: 474 entries, 0 to 479\n",
      "Data columns (total 8 columns):\n",
      " #   Column   Non-Null Count  Dtype  \n",
      "---  ------   --------------  -----  \n",
      " 0   S.NO     474 non-null    int64  \n",
      " 1   SECTION  474 non-null    object \n",
      " 2   DV       474 non-null    float64\n",
      " 3   M2       474 non-null    float64\n",
      " 4   PP       474 non-null    float64\n",
      " 5   BEEE     474 non-null    float64\n",
      " 6   FL       474 non-null    float64\n",
      " 7   FIMS     474 non-null    float64\n",
      "dtypes: float64(6), int64(1), object(1)\n",
      "memory usage: 33.3+ KB\n"
     ]
    }
   ],
   "source": [
    "\n",
    "\n",
    "\n",
    "df.info()"
   ]
  },
  {
   "cell_type": "code",
   "execution_count": 24,
   "id": "ff78e40e-5efd-4938-baca-59182d38c6ce",
   "metadata": {},
   "outputs": [],
   "source": [
    "df['DV'] = pd.to_numeric(df['DV'], errors='coerce')\n",
    "df['M2'] = pd.to_numeric(df['M2'], errors='coerce')\n",
    "df['PP'] = pd.to_numeric(df['PP'], errors='coerce')\n",
    "df['BEEE'] = pd.to_numeric(df['BEEE'], errors='coerce')\n",
    "df['FL'] = pd.to_numeric(df['FL'], errors='coerce')\n",
    "df['FIMS'] = pd.to_numeric(df['FIMS'], errors='coerce')\n",
    "df.fillna(0, inplace=True)"
   ]
  },
  {
   "cell_type": "code",
   "execution_count": 25,
   "id": "af47683f-f75f-41a4-8572-5244465a6ab2",
   "metadata": {},
   "outputs": [
    {
     "name": "stdout",
     "output_type": "stream",
     "text": [
      "<class 'pandas.core.frame.DataFrame'>\n",
      "Index: 474 entries, 0 to 479\n",
      "Data columns (total 8 columns):\n",
      " #   Column   Non-Null Count  Dtype  \n",
      "---  ------   --------------  -----  \n",
      " 0   S.NO     474 non-null    int64  \n",
      " 1   SECTION  474 non-null    object \n",
      " 2   DV       474 non-null    float64\n",
      " 3   M2       474 non-null    float64\n",
      " 4   PP       474 non-null    float64\n",
      " 5   BEEE     474 non-null    float64\n",
      " 6   FL       474 non-null    float64\n",
      " 7   FIMS     474 non-null    float64\n",
      "dtypes: float64(6), int64(1), object(1)\n",
      "memory usage: 33.3+ KB\n"
     ]
    }
   ],
   "source": [
    "df.info()\n"
   ]
  },
  {
   "cell_type": "markdown",
   "id": "6f2c6383-e5ec-4588-8756-fd36e24017c5",
   "metadata": {},
   "source": [
    "# Converting into numeric"
   ]
  },
  {
   "cell_type": "code",
   "execution_count": 26,
   "id": "a3c37b32-f976-42b6-9cc1-71baf8fc7def",
   "metadata": {},
   "outputs": [
    {
     "data": {
      "text/plain": [
       "S.NO       0\n",
       "SECTION    0\n",
       "DV         0\n",
       "M2         0\n",
       "PP         0\n",
       "BEEE       0\n",
       "FL         0\n",
       "FIMS       0\n",
       "dtype: int64"
      ]
     },
     "execution_count": 26,
     "metadata": {},
     "output_type": "execute_result"
    }
   ],
   "source": [
    "df.isnull().sum()\n"
   ]
  },
  {
   "cell_type": "code",
   "execution_count": 27,
   "id": "a3386e36-1f2a-41b5-8409-d52addb95c20",
   "metadata": {},
   "outputs": [
    {
     "data": {
      "text/plain": [
       "<bound method DataFrame.info of      S.NO SECTION    DV    M2    PP  BEEE    FL  FIMS\n",
       "0       1   ALPHA  12.0   0.0  17.0   9.0  19.0  15.0\n",
       "1       2   ALPHA  19.0  12.0  16.0  16.0  18.0   3.0\n",
       "2       3   ALPHA  18.0  14.0  18.0  18.0  18.0  16.0\n",
       "3       4   ALPHA  15.0   9.0  19.0  17.0  19.0  15.0\n",
       "4       5   ALPHA  18.0  17.0  19.0  19.0  20.0  18.0\n",
       "..    ...     ...   ...   ...   ...   ...   ...   ...\n",
       "474   475    Zeta  11.0   4.0   2.0   2.0   8.0  10.0\n",
       "475   476    Zeta  18.0   2.0  12.0   3.0  17.0  15.0\n",
       "476   477    Zeta  20.0   6.0  16.0  11.0  20.0  14.0\n",
       "478   479    Zeta  20.0  20.0   5.0  19.0  18.0  14.0\n",
       "479   480    Zeta  20.0  16.0  18.0  19.0  20.0  19.0\n",
       "\n",
       "[474 rows x 8 columns]>"
      ]
     },
     "execution_count": 27,
     "metadata": {},
     "output_type": "execute_result"
    }
   ],
   "source": [
    "df.info"
   ]
  },
  {
   "cell_type": "code",
   "execution_count": 28,
   "id": "241ce3fe-4d08-4afb-8987-5395258c2b74",
   "metadata": {},
   "outputs": [
    {
     "ename": "KeyError",
     "evalue": "'M-II'",
     "output_type": "error",
     "traceback": [
      "\u001b[1;31m---------------------------------------------------------------------------\u001b[0m",
      "\u001b[1;31mKeyError\u001b[0m                                  Traceback (most recent call last)",
      "File \u001b[1;32m~\\anaconda3\\Lib\\site-packages\\pandas\\core\\indexes\\base.py:3805\u001b[0m, in \u001b[0;36mIndex.get_loc\u001b[1;34m(self, key)\u001b[0m\n\u001b[0;32m   3804\u001b[0m \u001b[38;5;28;01mtry\u001b[39;00m:\n\u001b[1;32m-> 3805\u001b[0m     \u001b[38;5;28;01mreturn\u001b[39;00m \u001b[38;5;28;43mself\u001b[39;49m\u001b[38;5;241;43m.\u001b[39;49m\u001b[43m_engine\u001b[49m\u001b[38;5;241;43m.\u001b[39;49m\u001b[43mget_loc\u001b[49m\u001b[43m(\u001b[49m\u001b[43mcasted_key\u001b[49m\u001b[43m)\u001b[49m\n\u001b[0;32m   3806\u001b[0m \u001b[38;5;28;01mexcept\u001b[39;00m \u001b[38;5;167;01mKeyError\u001b[39;00m \u001b[38;5;28;01mas\u001b[39;00m err:\n",
      "File \u001b[1;32mindex.pyx:167\u001b[0m, in \u001b[0;36mpandas._libs.index.IndexEngine.get_loc\u001b[1;34m()\u001b[0m\n",
      "File \u001b[1;32mindex.pyx:196\u001b[0m, in \u001b[0;36mpandas._libs.index.IndexEngine.get_loc\u001b[1;34m()\u001b[0m\n",
      "File \u001b[1;32mpandas\\\\_libs\\\\hashtable_class_helper.pxi:7081\u001b[0m, in \u001b[0;36mpandas._libs.hashtable.PyObjectHashTable.get_item\u001b[1;34m()\u001b[0m\n",
      "File \u001b[1;32mpandas\\\\_libs\\\\hashtable_class_helper.pxi:7089\u001b[0m, in \u001b[0;36mpandas._libs.hashtable.PyObjectHashTable.get_item\u001b[1;34m()\u001b[0m\n",
      "\u001b[1;31mKeyError\u001b[0m: 'M-II'",
      "\nThe above exception was the direct cause of the following exception:\n",
      "\u001b[1;31mKeyError\u001b[0m                                  Traceback (most recent call last)",
      "Cell \u001b[1;32mIn[28], line 1\u001b[0m\n\u001b[1;32m----> 1\u001b[0m df[\u001b[38;5;124m'\u001b[39m\u001b[38;5;124mTotal\u001b[39m\u001b[38;5;124m'\u001b[39m] \u001b[38;5;241m=\u001b[39m df[\u001b[38;5;124m'\u001b[39m\u001b[38;5;124mDV\u001b[39m\u001b[38;5;124m'\u001b[39m] \u001b[38;5;241m+\u001b[39m \u001b[43mdf\u001b[49m\u001b[43m[\u001b[49m\u001b[38;5;124;43m'\u001b[39;49m\u001b[38;5;124;43mM-II\u001b[39;49m\u001b[38;5;124;43m'\u001b[39;49m\u001b[43m]\u001b[49m \u001b[38;5;241m+\u001b[39m df[\u001b[38;5;124m'\u001b[39m\u001b[38;5;124mPP\u001b[39m\u001b[38;5;124m'\u001b[39m] \u001b[38;5;241m+\u001b[39m df[\u001b[38;5;124m'\u001b[39m\u001b[38;5;124mBEEE\u001b[39m\u001b[38;5;124m'\u001b[39m] \u001b[38;5;241m+\u001b[39m df[\u001b[38;5;124m'\u001b[39m\u001b[38;5;124mFL\u001b[39m\u001b[38;5;124m'\u001b[39m] \u001b[38;5;241m+\u001b[39m df[\u001b[38;5;124m'\u001b[39m\u001b[38;5;124mFIMS\u001b[39m\u001b[38;5;124m'\u001b[39m]\n\u001b[0;32m      2\u001b[0m df\n",
      "File \u001b[1;32m~\\anaconda3\\Lib\\site-packages\\pandas\\core\\frame.py:4102\u001b[0m, in \u001b[0;36mDataFrame.__getitem__\u001b[1;34m(self, key)\u001b[0m\n\u001b[0;32m   4100\u001b[0m \u001b[38;5;28;01mif\u001b[39;00m \u001b[38;5;28mself\u001b[39m\u001b[38;5;241m.\u001b[39mcolumns\u001b[38;5;241m.\u001b[39mnlevels \u001b[38;5;241m>\u001b[39m \u001b[38;5;241m1\u001b[39m:\n\u001b[0;32m   4101\u001b[0m     \u001b[38;5;28;01mreturn\u001b[39;00m \u001b[38;5;28mself\u001b[39m\u001b[38;5;241m.\u001b[39m_getitem_multilevel(key)\n\u001b[1;32m-> 4102\u001b[0m indexer \u001b[38;5;241m=\u001b[39m \u001b[38;5;28;43mself\u001b[39;49m\u001b[38;5;241;43m.\u001b[39;49m\u001b[43mcolumns\u001b[49m\u001b[38;5;241;43m.\u001b[39;49m\u001b[43mget_loc\u001b[49m\u001b[43m(\u001b[49m\u001b[43mkey\u001b[49m\u001b[43m)\u001b[49m\n\u001b[0;32m   4103\u001b[0m \u001b[38;5;28;01mif\u001b[39;00m is_integer(indexer):\n\u001b[0;32m   4104\u001b[0m     indexer \u001b[38;5;241m=\u001b[39m [indexer]\n",
      "File \u001b[1;32m~\\anaconda3\\Lib\\site-packages\\pandas\\core\\indexes\\base.py:3812\u001b[0m, in \u001b[0;36mIndex.get_loc\u001b[1;34m(self, key)\u001b[0m\n\u001b[0;32m   3807\u001b[0m     \u001b[38;5;28;01mif\u001b[39;00m \u001b[38;5;28misinstance\u001b[39m(casted_key, \u001b[38;5;28mslice\u001b[39m) \u001b[38;5;129;01mor\u001b[39;00m (\n\u001b[0;32m   3808\u001b[0m         \u001b[38;5;28misinstance\u001b[39m(casted_key, abc\u001b[38;5;241m.\u001b[39mIterable)\n\u001b[0;32m   3809\u001b[0m         \u001b[38;5;129;01mand\u001b[39;00m \u001b[38;5;28many\u001b[39m(\u001b[38;5;28misinstance\u001b[39m(x, \u001b[38;5;28mslice\u001b[39m) \u001b[38;5;28;01mfor\u001b[39;00m x \u001b[38;5;129;01min\u001b[39;00m casted_key)\n\u001b[0;32m   3810\u001b[0m     ):\n\u001b[0;32m   3811\u001b[0m         \u001b[38;5;28;01mraise\u001b[39;00m InvalidIndexError(key)\n\u001b[1;32m-> 3812\u001b[0m     \u001b[38;5;28;01mraise\u001b[39;00m \u001b[38;5;167;01mKeyError\u001b[39;00m(key) \u001b[38;5;28;01mfrom\u001b[39;00m\u001b[38;5;250m \u001b[39m\u001b[38;5;21;01merr\u001b[39;00m\n\u001b[0;32m   3813\u001b[0m \u001b[38;5;28;01mexcept\u001b[39;00m \u001b[38;5;167;01mTypeError\u001b[39;00m:\n\u001b[0;32m   3814\u001b[0m     \u001b[38;5;66;03m# If we have a listlike key, _check_indexing_error will raise\u001b[39;00m\n\u001b[0;32m   3815\u001b[0m     \u001b[38;5;66;03m#  InvalidIndexError. Otherwise we fall through and re-raise\u001b[39;00m\n\u001b[0;32m   3816\u001b[0m     \u001b[38;5;66;03m#  the TypeError.\u001b[39;00m\n\u001b[0;32m   3817\u001b[0m     \u001b[38;5;28mself\u001b[39m\u001b[38;5;241m.\u001b[39m_check_indexing_error(key)\n",
      "\u001b[1;31mKeyError\u001b[0m: 'M-II'"
     ]
    }
   ],
   "source": [
    "\n",
    "df['Total'] = df['DV'] + df['M-II'] + df['PP'] + df['BEEE'] + df['FL'] + df['FIMS']\n",
    "df\n"
   ]
  },
  {
   "cell_type": "markdown",
   "id": "3aac1667-aedc-4699-a6f1-22c99d8e5312",
   "metadata": {},
   "source": [
    "# Calculating total"
   ]
  },
  {
   "cell_type": "code",
   "execution_count": 29,
   "id": "95bb8c4d-c377-4ccd-9a45-a50c84d59c11",
   "metadata": {},
   "outputs": [
    {
     "ename": "KeyError",
     "evalue": "'Total'",
     "output_type": "error",
     "traceback": [
      "\u001b[1;31m---------------------------------------------------------------------------\u001b[0m",
      "\u001b[1;31mKeyError\u001b[0m                                  Traceback (most recent call last)",
      "File \u001b[1;32m~\\anaconda3\\Lib\\site-packages\\pandas\\core\\indexes\\base.py:3805\u001b[0m, in \u001b[0;36mIndex.get_loc\u001b[1;34m(self, key)\u001b[0m\n\u001b[0;32m   3804\u001b[0m \u001b[38;5;28;01mtry\u001b[39;00m:\n\u001b[1;32m-> 3805\u001b[0m     \u001b[38;5;28;01mreturn\u001b[39;00m \u001b[38;5;28;43mself\u001b[39;49m\u001b[38;5;241;43m.\u001b[39;49m\u001b[43m_engine\u001b[49m\u001b[38;5;241;43m.\u001b[39;49m\u001b[43mget_loc\u001b[49m\u001b[43m(\u001b[49m\u001b[43mcasted_key\u001b[49m\u001b[43m)\u001b[49m\n\u001b[0;32m   3806\u001b[0m \u001b[38;5;28;01mexcept\u001b[39;00m \u001b[38;5;167;01mKeyError\u001b[39;00m \u001b[38;5;28;01mas\u001b[39;00m err:\n",
      "File \u001b[1;32mindex.pyx:167\u001b[0m, in \u001b[0;36mpandas._libs.index.IndexEngine.get_loc\u001b[1;34m()\u001b[0m\n",
      "File \u001b[1;32mindex.pyx:196\u001b[0m, in \u001b[0;36mpandas._libs.index.IndexEngine.get_loc\u001b[1;34m()\u001b[0m\n",
      "File \u001b[1;32mpandas\\\\_libs\\\\hashtable_class_helper.pxi:7081\u001b[0m, in \u001b[0;36mpandas._libs.hashtable.PyObjectHashTable.get_item\u001b[1;34m()\u001b[0m\n",
      "File \u001b[1;32mpandas\\\\_libs\\\\hashtable_class_helper.pxi:7089\u001b[0m, in \u001b[0;36mpandas._libs.hashtable.PyObjectHashTable.get_item\u001b[1;34m()\u001b[0m\n",
      "\u001b[1;31mKeyError\u001b[0m: 'Total'",
      "\nThe above exception was the direct cause of the following exception:\n",
      "\u001b[1;31mKeyError\u001b[0m                                  Traceback (most recent call last)",
      "Cell \u001b[1;32mIn[29], line 1\u001b[0m\n\u001b[1;32m----> 1\u001b[0m df[\u001b[38;5;124m\"\u001b[39m\u001b[38;5;124mPercentage\u001b[39m\u001b[38;5;124m\"\u001b[39m] \u001b[38;5;241m=\u001b[39m (\u001b[43mdf\u001b[49m\u001b[43m[\u001b[49m\u001b[38;5;124;43m'\u001b[39;49m\u001b[38;5;124;43mTotal\u001b[39;49m\u001b[38;5;124;43m'\u001b[39;49m\u001b[43m]\u001b[49m\u001b[38;5;241m/\u001b[39m\u001b[38;5;241m120\u001b[39m)\u001b[38;5;241m*\u001b[39m\u001b[38;5;241m100\u001b[39m\n",
      "File \u001b[1;32m~\\anaconda3\\Lib\\site-packages\\pandas\\core\\frame.py:4102\u001b[0m, in \u001b[0;36mDataFrame.__getitem__\u001b[1;34m(self, key)\u001b[0m\n\u001b[0;32m   4100\u001b[0m \u001b[38;5;28;01mif\u001b[39;00m \u001b[38;5;28mself\u001b[39m\u001b[38;5;241m.\u001b[39mcolumns\u001b[38;5;241m.\u001b[39mnlevels \u001b[38;5;241m>\u001b[39m \u001b[38;5;241m1\u001b[39m:\n\u001b[0;32m   4101\u001b[0m     \u001b[38;5;28;01mreturn\u001b[39;00m \u001b[38;5;28mself\u001b[39m\u001b[38;5;241m.\u001b[39m_getitem_multilevel(key)\n\u001b[1;32m-> 4102\u001b[0m indexer \u001b[38;5;241m=\u001b[39m \u001b[38;5;28;43mself\u001b[39;49m\u001b[38;5;241;43m.\u001b[39;49m\u001b[43mcolumns\u001b[49m\u001b[38;5;241;43m.\u001b[39;49m\u001b[43mget_loc\u001b[49m\u001b[43m(\u001b[49m\u001b[43mkey\u001b[49m\u001b[43m)\u001b[49m\n\u001b[0;32m   4103\u001b[0m \u001b[38;5;28;01mif\u001b[39;00m is_integer(indexer):\n\u001b[0;32m   4104\u001b[0m     indexer \u001b[38;5;241m=\u001b[39m [indexer]\n",
      "File \u001b[1;32m~\\anaconda3\\Lib\\site-packages\\pandas\\core\\indexes\\base.py:3812\u001b[0m, in \u001b[0;36mIndex.get_loc\u001b[1;34m(self, key)\u001b[0m\n\u001b[0;32m   3807\u001b[0m     \u001b[38;5;28;01mif\u001b[39;00m \u001b[38;5;28misinstance\u001b[39m(casted_key, \u001b[38;5;28mslice\u001b[39m) \u001b[38;5;129;01mor\u001b[39;00m (\n\u001b[0;32m   3808\u001b[0m         \u001b[38;5;28misinstance\u001b[39m(casted_key, abc\u001b[38;5;241m.\u001b[39mIterable)\n\u001b[0;32m   3809\u001b[0m         \u001b[38;5;129;01mand\u001b[39;00m \u001b[38;5;28many\u001b[39m(\u001b[38;5;28misinstance\u001b[39m(x, \u001b[38;5;28mslice\u001b[39m) \u001b[38;5;28;01mfor\u001b[39;00m x \u001b[38;5;129;01min\u001b[39;00m casted_key)\n\u001b[0;32m   3810\u001b[0m     ):\n\u001b[0;32m   3811\u001b[0m         \u001b[38;5;28;01mraise\u001b[39;00m InvalidIndexError(key)\n\u001b[1;32m-> 3812\u001b[0m     \u001b[38;5;28;01mraise\u001b[39;00m \u001b[38;5;167;01mKeyError\u001b[39;00m(key) \u001b[38;5;28;01mfrom\u001b[39;00m\u001b[38;5;250m \u001b[39m\u001b[38;5;21;01merr\u001b[39;00m\n\u001b[0;32m   3813\u001b[0m \u001b[38;5;28;01mexcept\u001b[39;00m \u001b[38;5;167;01mTypeError\u001b[39;00m:\n\u001b[0;32m   3814\u001b[0m     \u001b[38;5;66;03m# If we have a listlike key, _check_indexing_error will raise\u001b[39;00m\n\u001b[0;32m   3815\u001b[0m     \u001b[38;5;66;03m#  InvalidIndexError. Otherwise we fall through and re-raise\u001b[39;00m\n\u001b[0;32m   3816\u001b[0m     \u001b[38;5;66;03m#  the TypeError.\u001b[39;00m\n\u001b[0;32m   3817\u001b[0m     \u001b[38;5;28mself\u001b[39m\u001b[38;5;241m.\u001b[39m_check_indexing_error(key)\n",
      "\u001b[1;31mKeyError\u001b[0m: 'Total'"
     ]
    }
   ],
   "source": [
    "df[\"Percentage\"] = (df['Total']/120)*100"
   ]
  },
  {
   "cell_type": "code",
   "execution_count": 30,
   "id": "b3dbd0d6-38ba-4983-a6b1-1975ae1cf25b",
   "metadata": {},
   "outputs": [
    {
     "data": {
      "text/html": [
       "<div>\n",
       "<style scoped>\n",
       "    .dataframe tbody tr th:only-of-type {\n",
       "        vertical-align: middle;\n",
       "    }\n",
       "\n",
       "    .dataframe tbody tr th {\n",
       "        vertical-align: top;\n",
       "    }\n",
       "\n",
       "    .dataframe thead th {\n",
       "        text-align: right;\n",
       "    }\n",
       "</style>\n",
       "<table border=\"1\" class=\"dataframe\">\n",
       "  <thead>\n",
       "    <tr style=\"text-align: right;\">\n",
       "      <th></th>\n",
       "      <th>S.NO</th>\n",
       "      <th>SECTION</th>\n",
       "      <th>DV</th>\n",
       "      <th>M2</th>\n",
       "      <th>PP</th>\n",
       "      <th>BEEE</th>\n",
       "      <th>FL</th>\n",
       "      <th>FIMS</th>\n",
       "    </tr>\n",
       "  </thead>\n",
       "  <tbody>\n",
       "    <tr>\n",
       "      <th>0</th>\n",
       "      <td>1</td>\n",
       "      <td>ALPHA</td>\n",
       "      <td>12.0</td>\n",
       "      <td>0.0</td>\n",
       "      <td>17.0</td>\n",
       "      <td>9.0</td>\n",
       "      <td>19.0</td>\n",
       "      <td>15.0</td>\n",
       "    </tr>\n",
       "    <tr>\n",
       "      <th>1</th>\n",
       "      <td>2</td>\n",
       "      <td>ALPHA</td>\n",
       "      <td>19.0</td>\n",
       "      <td>12.0</td>\n",
       "      <td>16.0</td>\n",
       "      <td>16.0</td>\n",
       "      <td>18.0</td>\n",
       "      <td>3.0</td>\n",
       "    </tr>\n",
       "    <tr>\n",
       "      <th>2</th>\n",
       "      <td>3</td>\n",
       "      <td>ALPHA</td>\n",
       "      <td>18.0</td>\n",
       "      <td>14.0</td>\n",
       "      <td>18.0</td>\n",
       "      <td>18.0</td>\n",
       "      <td>18.0</td>\n",
       "      <td>16.0</td>\n",
       "    </tr>\n",
       "    <tr>\n",
       "      <th>3</th>\n",
       "      <td>4</td>\n",
       "      <td>ALPHA</td>\n",
       "      <td>15.0</td>\n",
       "      <td>9.0</td>\n",
       "      <td>19.0</td>\n",
       "      <td>17.0</td>\n",
       "      <td>19.0</td>\n",
       "      <td>15.0</td>\n",
       "    </tr>\n",
       "    <tr>\n",
       "      <th>4</th>\n",
       "      <td>5</td>\n",
       "      <td>ALPHA</td>\n",
       "      <td>18.0</td>\n",
       "      <td>17.0</td>\n",
       "      <td>19.0</td>\n",
       "      <td>19.0</td>\n",
       "      <td>20.0</td>\n",
       "      <td>18.0</td>\n",
       "    </tr>\n",
       "    <tr>\n",
       "      <th>...</th>\n",
       "      <td>...</td>\n",
       "      <td>...</td>\n",
       "      <td>...</td>\n",
       "      <td>...</td>\n",
       "      <td>...</td>\n",
       "      <td>...</td>\n",
       "      <td>...</td>\n",
       "      <td>...</td>\n",
       "    </tr>\n",
       "    <tr>\n",
       "      <th>474</th>\n",
       "      <td>475</td>\n",
       "      <td>Zeta</td>\n",
       "      <td>11.0</td>\n",
       "      <td>4.0</td>\n",
       "      <td>2.0</td>\n",
       "      <td>2.0</td>\n",
       "      <td>8.0</td>\n",
       "      <td>10.0</td>\n",
       "    </tr>\n",
       "    <tr>\n",
       "      <th>475</th>\n",
       "      <td>476</td>\n",
       "      <td>Zeta</td>\n",
       "      <td>18.0</td>\n",
       "      <td>2.0</td>\n",
       "      <td>12.0</td>\n",
       "      <td>3.0</td>\n",
       "      <td>17.0</td>\n",
       "      <td>15.0</td>\n",
       "    </tr>\n",
       "    <tr>\n",
       "      <th>476</th>\n",
       "      <td>477</td>\n",
       "      <td>Zeta</td>\n",
       "      <td>20.0</td>\n",
       "      <td>6.0</td>\n",
       "      <td>16.0</td>\n",
       "      <td>11.0</td>\n",
       "      <td>20.0</td>\n",
       "      <td>14.0</td>\n",
       "    </tr>\n",
       "    <tr>\n",
       "      <th>478</th>\n",
       "      <td>479</td>\n",
       "      <td>Zeta</td>\n",
       "      <td>20.0</td>\n",
       "      <td>20.0</td>\n",
       "      <td>5.0</td>\n",
       "      <td>19.0</td>\n",
       "      <td>18.0</td>\n",
       "      <td>14.0</td>\n",
       "    </tr>\n",
       "    <tr>\n",
       "      <th>479</th>\n",
       "      <td>480</td>\n",
       "      <td>Zeta</td>\n",
       "      <td>20.0</td>\n",
       "      <td>16.0</td>\n",
       "      <td>18.0</td>\n",
       "      <td>19.0</td>\n",
       "      <td>20.0</td>\n",
       "      <td>19.0</td>\n",
       "    </tr>\n",
       "  </tbody>\n",
       "</table>\n",
       "<p>474 rows × 8 columns</p>\n",
       "</div>"
      ],
      "text/plain": [
       "     S.NO SECTION    DV    M2    PP  BEEE    FL  FIMS\n",
       "0       1   ALPHA  12.0   0.0  17.0   9.0  19.0  15.0\n",
       "1       2   ALPHA  19.0  12.0  16.0  16.0  18.0   3.0\n",
       "2       3   ALPHA  18.0  14.0  18.0  18.0  18.0  16.0\n",
       "3       4   ALPHA  15.0   9.0  19.0  17.0  19.0  15.0\n",
       "4       5   ALPHA  18.0  17.0  19.0  19.0  20.0  18.0\n",
       "..    ...     ...   ...   ...   ...   ...   ...   ...\n",
       "474   475    Zeta  11.0   4.0   2.0   2.0   8.0  10.0\n",
       "475   476    Zeta  18.0   2.0  12.0   3.0  17.0  15.0\n",
       "476   477    Zeta  20.0   6.0  16.0  11.0  20.0  14.0\n",
       "478   479    Zeta  20.0  20.0   5.0  19.0  18.0  14.0\n",
       "479   480    Zeta  20.0  16.0  18.0  19.0  20.0  19.0\n",
       "\n",
       "[474 rows x 8 columns]"
      ]
     },
     "execution_count": 30,
     "metadata": {},
     "output_type": "execute_result"
    }
   ],
   "source": [
    "df"
   ]
  },
  {
   "cell_type": "code",
   "execution_count": null,
   "id": "cc8f5cd8-92a2-4158-a7fa-bfc70289928a",
   "metadata": {},
   "outputs": [],
   "source": [
    "df['Percentage'] = df['Percentage'].round().astype(int)\n",
    "df"
   ]
  },
  {
   "cell_type": "code",
   "execution_count": null,
   "id": "f4863948-2e70-46c3-8811-eaf5516346db",
   "metadata": {},
   "outputs": [],
   "source": [
    "\n",
    "\n",
    "\n",
    "\n",
    "def assign_grade(percentage):\n",
    "    if percentage >= 90:\n",
    "        return 'A'\n",
    "    elif percentage >= 80:\n",
    "        return 'B+'\n",
    "    elif percentage >= 70:\n",
    "        return 'B'\n",
    "    elif percentage >= 60:\n",
    "        return 'C+'\n",
    "    elif percentage >=50:\n",
    "        return 'C'\n",
    "    elif percentage >=40:\n",
    "        return 'D'\n",
    "    else:\n",
    "        return 'F'\n",
    "df['Grade'] = df['Percentage'].apply(assign_grade)\n",
    "df"
   ]
  },
  {
   "cell_type": "code",
   "execution_count": null,
   "id": "3b67d1fb-28fd-4f39-ac98-bf0f7e5488fa",
   "metadata": {},
   "outputs": [],
   "source": [
    "df.plot()\n",
    "plt.show()"
   ]
  },
  {
   "cell_type": "code",
   "execution_count": null,
   "id": "9fd26071-0a98-4f62-ae47-411770a190ac",
   "metadata": {},
   "outputs": [],
   "source": [
    "plt.figure(figsize=[8, 4])\n",
    "plt.hist(df['Total'], color='cyan', bins=10, edgecolor='black')\n",
    "plt.title(\"Distribution of Total Marks\")\n",
    "plt.xlabel(\"Total Marks\")\n",
    "plt.ylabel(\"Number of Students\")\n",
    "plt.show()"
   ]
  },
  {
   "cell_type": "markdown",
   "id": "d98868ea-1b71-4e6b-9e58-5f35ee2eeb79",
   "metadata": {},
   "source": [
    "# Distribution of Total marks in Histogram"
   ]
  },
  {
   "cell_type": "code",
   "execution_count": null,
   "id": "393e31b5-429c-4e64-8e64-f473cff27811",
   "metadata": {},
   "outputs": [],
   "source": [
    "df['DV'] = pd.to_numeric(df['DV'], errors='coerce')\n",
    "df = df.dropna(subset=['DV'])\n",
    "plt.hist(df['DV'], bins=10, color='red', edgecolor='black')\n",
    "plt.title(\"Distribution of DV Marks\")\n",
    "plt.xlabel(\"DV Marks\")\n",
    "plt.ylabel(\"Number of Students\")\n",
    "plt.show()\n"
   ]
  },
  {
   "cell_type": "markdown",
   "id": "d70fae33-1a6a-4268-8447-ce89020bee45",
   "metadata": {},
   "source": [
    "# Distribution of DV Marks"
   ]
  },
  {
   "cell_type": "code",
   "execution_count": null,
   "id": "94937c46-b793-4859-8a5f-78190f8d7c4d",
   "metadata": {},
   "outputs": [],
   "source": [
    "df['M2'] = pd.to_numeric(df['M-II'], errors='coerce')\n",
    "df = df.dropna(subset=['M-II'])\n",
    "plt.hist(df['M-II'], bins=10, color='orange', edgecolor='black')\n",
    "plt.title(\"Distribution of M2 Marks\")\n",
    "plt.xlabel(\"M2 Marks\")\n",
    "plt.ylabel(\"Number of Students\")\n",
    "plt.show()"
   ]
  },
  {
   "cell_type": "markdown",
   "id": "7e2133fa-5449-4657-b39c-a464af739e22",
   "metadata": {},
   "source": [
    "# Distribution of M2 Marks"
   ]
  },
  {
   "cell_type": "code",
   "execution_count": null,
   "id": "7516f76b-8970-4160-8a1a-075fbc563df8",
   "metadata": {},
   "outputs": [],
   "source": [
    "df['PP'] = pd.to_numeric(df['PP'], errors='coerce')\n",
    "df['BEEE'] = pd.to_numeric(df['BEEE'], errors='coerce')\n",
    "df_clean = df.dropna(subset=['PP', 'BEEE'])\n",
    "\n",
    "plt.figure(figsize=[10, 6])\n",
    "\n",
    "plt.subplot(1, 2, 1)\n",
    "plt.hist(df_clean['PP'], bins=10, color='red', edgecolor='black')\n",
    "plt.title(\"Distribution of PP Marks\")\n",
    "plt.xlabel(\"PP Marks\")\n",
    "plt.ylabel(\"Number of Students\")\n",
    "\n",
    "plt.subplot(1, 2, 2)\n",
    "plt.hist(df_clean['BEEE'], bins=10, color='yellow', edgecolor='black')\n",
    "plt.title(\"Distribution of BEEE Marks\")\n",
    "plt.xlabel(\"BEEE Marks\")\n",
    "plt.ylabel(\"Number of Students\")\n",
    "\n",
    "plt.tight_layout()\n",
    "plt.show()\n"
   ]
  },
  {
   "cell_type": "markdown",
   "id": "f26bd922-73f4-4a87-9f8e-60ef47795fc7",
   "metadata": {},
   "source": [
    "# Comparision of PP marks and BEEE marks"
   ]
  },
  {
   "cell_type": "code",
   "execution_count": null,
   "id": "662a9dc8-4de6-4582-8ed8-a53649c64cc3",
   "metadata": {},
   "outputs": [],
   "source": [
    "filtered_df = df[df['PP'] > 10]\n",
    "plt.hist(filtered_df['PP'], bins=10, color='blue', edgecolor='black')\n",
    "plt.title(\"PP Marks above 15 \")\n",
    "plt.xlabel(\"PP Marks\")\n",
    "plt.ylabel(\"Number of Students\")\n",
    "plt.show()\n"
   ]
  },
  {
   "cell_type": "markdown",
   "id": "b1fc5854-c8a4-466b-96e8-69949707d31e",
   "metadata": {},
   "source": [
    "# PP Marks who got more than 10"
   ]
  },
  {
   "cell_type": "code",
   "execution_count": null,
   "id": "3d53278f-81a0-48f2-9267-3fdff5db3612",
   "metadata": {},
   "outputs": [],
   "source": [
    "filtered_df = df[df['M2'] < 10]\n",
    "\n",
    "plt.hist(filtered_df['M2'], bins=10, color='brown', edgecolor='black')\n",
    "plt.title(\"M2 Marks less than 15\")\n",
    "plt.xlabel(\"M2 Marks\")\n",
    "plt.ylabel(\"Number of Students\")\n",
    "plt.show()\n"
   ]
  },
  {
   "cell_type": "markdown",
   "id": "c0fd08ca-5a51-42b7-84a7-17bd6bdfa1fc",
   "metadata": {},
   "source": [
    "# M2 Marks Who got less than 10"
   ]
  },
  {
   "cell_type": "code",
   "execution_count": null,
   "id": "186041f3-7521-4317-bba1-b31210474436",
   "metadata": {},
   "outputs": [],
   "source": [
    "plt.scatter(df['FL'], df['FIMS'], c=df['FL'], cmap='viridis', alpha=0.7)\n",
    "plt.title(\"FL Marks vs FIMS Marks\")\n",
    "plt.xlabel(\"FL Marks\")\n",
    "plt.ylabel(\"FIMS Marks\")\n",
    "plt.colorbar(label='FL Marks')\n",
    "plt.show()\n"
   ]
  },
  {
   "cell_type": "markdown",
   "id": "8630e02d-f0eb-4f30-9390-8c88f23a65bb",
   "metadata": {},
   "source": [
    "# Scatter plot of FL VS FIMS Marks"
   ]
  },
  {
   "cell_type": "code",
   "execution_count": null,
   "id": "55b5f2a2-618c-4b66-a7a7-3dea720d7b29",
   "metadata": {},
   "outputs": [],
   "source": [
    "filtered_df = df[df['PP'] < 10]\n",
    "\n",
    "plt.scatter(filtered_df.index, filtered_df['PP'], alpha=0.7, color='green')\n",
    "plt.title(\"Less than 10 Marks in PP\")\n",
    "plt.xlabel(\"Student Index\")\n",
    "plt.ylabel(\"PP Marks\")\n",
    "plt.show()\n"
   ]
  },
  {
   "cell_type": "markdown",
   "id": "8f5625b5-a141-4d4e-bb31-2b4a57ad3af7",
   "metadata": {},
   "source": [
    "# \n",
    "\n",
    "\n",
    "\n",
    "\n",
    "\n",
    "\n",
    "Scoring of PP Marks Less than 10"
   ]
  },
  {
   "cell_type": "code",
   "execution_count": null,
   "id": "29b8eac5-e63a-4e08-ba51-5964078f8c96",
   "metadata": {},
   "outputs": [],
   "source": [
    "filtered_df = df[df['BEEE'] < 10]\n",
    "\n",
    "plt.scatter(filtered_df.index, filtered_df['PP'], alpha=0.7, color='blue')\n",
    "plt.title(\"More than 10 Marks in BEEE\")\n",
    "plt.xlabel(\"Student Index\")\n",
    "plt.ylabel(\"BEEE Marks\")\n",
    "plt.show()\n"
   ]
  },
  {
   "cell_type": "markdown",
   "id": "f0206bd3-8adc-449d-abce-726709fb2e03",
   "metadata": {},
   "source": [
    "# Scoring of BEEE Marks More than 15"
   ]
  },
  {
   "cell_type": "code",
   "execution_count": null,
   "id": "8bc0d073-4ab8-450b-b0c0-ff2f7eec04e1",
   "metadata": {},
   "outputs": [],
   "source": [
    "filtered_df = df[df['DV'] > 10]\n",
    "plt.scatter(filtered_df.index, filtered_df['DV'], alpha=0.7, color='pink')\n",
    "plt.title(\"Students Marks 10 in DV \")\n",
    "plt.xlabel(\"Student Index\")\n",
    "plt.ylabel(\"DV Marks\")\n",
    "plt.show()"
   ]
  },
  {
   "cell_type": "markdown",
   "id": "f143b5a5-a674-4a60-a8d2-0883667c81eb",
   "metadata": {},
   "source": [
    "# Students who scored 10 marks in DV"
   ]
  },
  {
   "cell_type": "code",
   "execution_count": null,
   "id": "1bf8d8ce-117a-4b1a-a1f5-fbeb8f6279ef",
   "metadata": {},
   "outputs": [],
   "source": [
    "filtered_df = df[df['M2'] == 0]\n",
    "plt.scatter(filtered_df.index, filtered_df['DV'], alpha=0.7, color='grey')\n",
    "plt.title(\"Students Marks 0 in M2 \")\n",
    "plt.xlabel(\"Student Index\")\n",
    "plt.ylabel(\"M2 Marks\")\n",
    "plt.show()"
   ]
  },
  {
   "cell_type": "markdown",
   "id": "4048f7a2-b368-41ba-a31e-6990eba81bfe",
   "metadata": {},
   "source": [
    "# Students who scored 0 Marks in M2"
   ]
  },
  {
   "cell_type": "code",
   "execution_count": null,
   "id": "d05bd7c6-3c84-4b23-bb85-8cdd23d538c7",
   "metadata": {},
   "outputs": [],
   "source": [
    "filtered_df = df[(df['PP'] == 0) & (df['BEEE'] == 0)]\n",
    "plt.scatter(filtered_df.index, filtered_df['PP'], alpha=0.7, color='brown')\n",
    "plt.title(\"Students Marks 0 in PP and BEEE\")\n",
    "plt.xlabel(\"Student Index\")\n",
    "plt.ylabel(\"PP Marks\")\n",
    "plt.show()\n"
   ]
  },
  {
   "cell_type": "markdown",
   "id": "b08046fb-41a9-4209-a330-a797cd54a3a1",
   "metadata": {},
   "source": [
    "# Students scored 0 Marks in PP and BEEE"
   ]
  },
  {
   "cell_type": "code",
   "execution_count": null,
   "id": "f792bb32-c8fa-4cd3-8cee-013ed0a0ea42",
   "metadata": {},
   "outputs": [],
   "source": [
    "plt.figure(figsize=(5, 6))\n",
    "sns.boxplot(data=df['DV'], color='lightblue')\n",
    "plt.title(\"Box Plot of DV Marks\")\n",
    "plt.ylabel(\"Marks\")\n",
    "plt.show()\n"
   ]
  },
  {
   "cell_type": "markdown",
   "id": "306412ee-828a-46e0-b0d3-fa0b2c242413",
   "metadata": {},
   "source": [
    "# Box plot for the DV Marks"
   ]
  },
  {
   "cell_type": "code",
   "execution_count": null,
   "id": "c189d27c-3bc7-4807-a20f-5d760fa07880",
   "metadata": {},
   "outputs": [],
   "source": [
    "plt.figure(figsize=(8, 6))\n",
    "sns.boxplot(data=df['BEEE'], color='lightgreen')\n",
    "plt.title(\"Box Plot of BEEE Marks\")\n",
    "plt.ylabel(\"Marks\")\n",
    "plt.show()"
   ]
  },
  {
   "cell_type": "markdown",
   "id": "726cf71a-84f1-41d8-98e5-4ddbeca08b08",
   "metadata": {},
   "source": [
    "# Box plot of BEEE Marks"
   ]
  },
  {
   "cell_type": "code",
   "execution_count": null,
   "id": "79ec3b40-63dd-481e-b2a0-c2639e7268c1",
   "metadata": {},
   "outputs": [],
   "source": [
    "\n",
    "\n",
    "\n",
    "plt.figure(figsize=(8, 6))\n",
    "sns.boxplot(data=df['FL'], color='lightpink')\n",
    "plt.title(\"Box Plot of FL Marks\")\n",
    "plt.ylabel(\"Marks\")\n",
    "plt.show()"
   ]
  },
  {
   "cell_type": "markdown",
   "id": "9b66b46f-183d-43f9-868e-3e27bdc5762d",
   "metadata": {},
   "source": [
    "# Box plot for the FL Marks"
   ]
  },
  {
   "cell_type": "code",
   "execution_count": null,
   "id": "8d8a40c9-f2f5-421b-aff3-c164b88c9f67",
   "metadata": {},
   "outputs": [],
   "source": [
    "a=df.loc[(df['Total'] >= 75) & (df['Total'] <= 80)]\n",
    "a=a.reset_index()\n",
    "a"
   ]
  },
  {
   "cell_type": "markdown",
   "id": "c908b999-e500-46d8-a5d1-7d9314068a0c",
   "metadata": {},
   "source": [
    "# Total marks between 75 to 80"
   ]
  },
  {
   "cell_type": "code",
   "execution_count": null,
   "id": "ca431b45-5031-4681-9159-9d67d3fa579b",
   "metadata": {},
   "outputs": [],
   "source": [
    "a.plot.line(x='DV',y='Total',color='red')\n",
    "plt.title(\"Line Graph of DV\")\n",
    "plt.ylabel(\"Total\")\n",
    "plt.show()"
   ]
  },
  {
   "cell_type": "markdown",
   "id": "d25e5cd9-b05a-4c7a-9e52-3928237b104f",
   "metadata": {},
   "source": [
    "# Lineplot for total and DV"
   ]
  },
  {
   "cell_type": "code",
   "execution_count": null,
   "id": "4ff628aa-f3b0-42b4-9fcb-72044abfe3e0",
   "metadata": {},
   "outputs": [],
   "source": [
    "a.plot.line(x='FIMS',y='Total',color='red')\n",
    "plt.title(\"Line Graph of FIMS\")\n",
    "plt.ylabel(\"Total\")\n",
    "plt.show()"
   ]
  },
  {
   "cell_type": "markdown",
   "id": "f77651a6-a284-41d1-8afc-2a95ca485a14",
   "metadata": {},
   "source": [
    "# Lineplot for total and FIMS"
   ]
  },
  {
   "cell_type": "code",
   "execution_count": null,
   "id": "ad48c772-113d-4c9c-8507-d0dacbdf45a5",
   "metadata": {},
   "outputs": [],
   "source": [
    "a.plot.line(x='M2',y='Total',color='blue')\n",
    "plt.title(\"Line Graph of M2\")\n",
    "plt.ylabel(\"Total\")\n",
    "plt.show()"
   ]
  },
  {
   "cell_type": "markdown",
   "id": "c4de1646-3915-4205-830f-231402aca8a0",
   "metadata": {},
   "source": [
    "# Lineplot for total and M2"
   ]
  },
  {
   "cell_type": "code",
   "execution_count": null,
   "id": "4b7c8063-f692-49ba-bc1e-f573575f3c73",
   "metadata": {},
   "outputs": [],
   "source": [
    "a.plot.line(x='PP',y='Total',color='blue')\n",
    "plt.title(\"Line Graph of PP\")\n",
    "plt.ylabel(\"Total\")\n",
    "plt.show()"
   ]
  },
  {
   "cell_type": "markdown",
   "id": "3903f061-4030-413b-911c-fb724e8c0094",
   "metadata": {},
   "source": [
    "# Lineplot for total and M2"
   ]
  },
  {
   "cell_type": "code",
   "execution_count": null,
   "id": "5e4bbf1b-a892-4ad9-bf49-162ecd748031",
   "metadata": {},
   "outputs": [],
   "source": [
    "a.plot.line(x='BEEE',y='Total',color='blue')\n",
    "plt.title(\"Line Graph of BEEE\")\n",
    "plt.ylabel(\"Total\")\n",
    "plt.show()"
   ]
  },
  {
   "cell_type": "markdown",
   "id": "305fecbc-4349-46e0-a67e-544281c62f16",
   "metadata": {},
   "source": [
    "# Lineplot for total and BEEE"
   ]
  },
  {
   "cell_type": "code",
   "execution_count": null,
   "id": "f5e169bb-557a-40c8-ba1e-57a4387a2941",
   "metadata": {},
   "outputs": [],
   "source": [
    "\n",
    "\n",
    "b=df.loc[(df['Total'] >= 115) & (df['Total'] <= 120)]\n",
    "b=b.reset_index()\n",
    "b"
   ]
  },
  {
   "cell_type": "markdown",
   "id": "a758739d-b253-45bf-954e-a1aa4c6a38ee",
   "metadata": {},
   "source": [
    "# students between 115 and 120"
   ]
  },
  {
   "cell_type": "code",
   "execution_count": null,
   "id": "301c1ed8-280a-4f7e-aba4-d5d93229e6cd",
   "metadata": {},
   "outputs": [],
   "source": [
    "b['DV'].plot(kind='pie',subplots=True,figsize=(8,8))\n",
    "plt.title(\"Pie Chart of DV\")"
   ]
  },
  {
   "cell_type": "markdown",
   "id": "cc0aed78-1a3a-452c-84c8-21a4368c0810",
   "metadata": {},
   "source": [
    "# PIE Chart of DV for 32 students"
   ]
  },
  {
   "cell_type": "code",
   "execution_count": null,
   "id": "4d8c4347-fb5a-4e87-828d-c6e7e7cb8b7b",
   "metadata": {},
   "outputs": [],
   "source": [
    "b['BEEE'].plot(kind='pie',subplots=True,figsize=(8,8))\n",
    "plt.title(\"Pie Chart of BEEE\")"
   ]
  },
  {
   "cell_type": "markdown",
   "id": "9c0049d2-39a7-4828-b311-467236d26e90",
   "metadata": {},
   "source": [
    "# PIE Chart of BEEE for 32 students"
   ]
  },
  {
   "cell_type": "code",
   "execution_count": null,
   "id": "ea3e2c67-bca7-4276-878a-bb3f219050e3",
   "metadata": {},
   "outputs": [],
   "source": [
    "b['PP'].plot(kind='pie',subplots=True,figsize=(8,8))\n",
    "plt.title(\"Pie Chart of PP\")"
   ]
  },
  {
   "cell_type": "markdown",
   "id": "7a92c047-35bf-4ed6-93d9-175033bcf60d",
   "metadata": {},
   "source": [
    "# PIE Chart of PP for 32 students"
   ]
  },
  {
   "cell_type": "code",
   "execution_count": null,
   "id": "f337e091-5d50-45e9-bd1e-835ebd1afb3c",
   "metadata": {},
   "outputs": [],
   "source": [
    "\n",
    "\n",
    "df.sort_values('Total').tail(10)"
   ]
  },
  {
   "cell_type": "code",
   "execution_count": null,
   "id": "ce008e15-b682-4f8a-907d-132f815dc9a1",
   "metadata": {},
   "outputs": [],
   "source": [
    "df.sort_values('DV').tail(20)"
   ]
  },
  {
   "cell_type": "code",
   "execution_count": null,
   "id": "d4fb710b-aa26-490a-82fc-c6b87e1fc768",
   "metadata": {},
   "outputs": [],
   "source": [
    "df.sort_values('DV').head(50)"
   ]
  },
  {
   "cell_type": "code",
   "execution_count": null,
   "id": "9a43cf17-f6d1-4c07-816a-e6e6c3a1cc03",
   "metadata": {},
   "outputs": [],
   "source": [
    "h = df[\n",
    "    (df['DV'] < 10.0) |\n",
    "    (df['PP'] < 10.0) |\n",
    "    (df['M2'] < 10.0) |\n",
    "    (df['BEEE'] < 10.0) |\n",
    "    (df['FL'] < 10.0) |\n",
    "    (df['FIMS'] < 10.0)\n",
    "]\n",
    "h['SECTION'].value_counts()\n"
   ]
  },
  {
   "cell_type": "code",
   "execution_count": null,
   "id": "817891a2-3b00-48f3-afbe-abcf2e277863",
   "metadata": {},
   "outputs": [],
   "source": [
    "df['backlogs'] = (df[['DV', 'M2', 'PP', 'BEEE', 'FL', 'FIMS']] < 10).sum(axis=1)\n",
    "df"
   ]
  },
  {
   "cell_type": "code",
   "execution_count": null,
   "id": "08f62ca9-5017-41cb-b8a8-67efebe1e63e",
   "metadata": {},
   "outputs": [],
   "source": [
    "j=df.sort_values('backlogs')\n",
    "j"
   ]
  },
  {
   "cell_type": "code",
   "execution_count": null,
   "id": "464fbc6b-ec10-4186-a7cb-f085bff849c9",
   "metadata": {},
   "outputs": [],
   "source": [
    "j.value_counts('backlogs')"
   ]
  },
  {
   "cell_type": "code",
   "execution_count": null,
   "id": "f5f3aa6c-6e2e-418c-879c-228ce4ddf044",
   "metadata": {},
   "outputs": [],
   "source": [
    "import pandas as pd\n",
    "df = pd.read_excel(\"MIDMARKS-MINOR1-EXAM.xlsx\")\n",
    "df['Total'] = df['DV'] + df['M-II'] + df['PP'] + df['BEEE'] + df['FL'] + df['FIMS']\n",
    "df.loc[(df.Total == 40)]"
   ]
  },
  {
   "cell_type": "code",
   "execution_count": null,
   "id": "a30adb38-39be-4458-bce1-9cea69dc1473",
   "metadata": {},
   "outputs": [],
   "source": [
    "import pandas as pd\n",
    "\n",
    "\n",
    "file_path = \"MIDMARKS-MINOR1-EXAM.xlsx\"  \n",
    "df = pd.read_excel(file_path, sheet_name=\"SEM2 MID 1 - ALPHA\")\n",
    "\n",
    "subject_columns = df.columns[2:]\n",
    "df[subject_columns] = df[subject_columns].apply(pd.to_numeric, errors='coerce')\n",
    "\n",
    "\n",
    "average_marks = df.groupby(\"SECTION\")[subject_columns].mean()\n",
    "subject_percentage = (average_marks / 20) * 100\n",
    "pass_marks = 10\n",
    "pass_percentage = df.groupby(\"SECTION\")[subject_columns].apply(lambda x: (x >= pass_marks).mean() * 100)\n",
    "predicted_probability = pass_percentage / 100\n",
    "\n",
    "\n",
    "\n",
    "print(\"\\nPredicted Probability of Passing for Each Subject by Section:\")\n",
    "print(predicted_probability.to_string())"
   ]
  },
  {
   "cell_type": "code",
   "execution_count": null,
   "id": "b2f7cdec-a333-444e-8ee8-1ca01567d3d5",
   "metadata": {},
   "outputs": [],
   "source": [
    "df[df[\"DV\"] > 10].value_counts()"
   ]
  },
  {
   "cell_type": "code",
   "execution_count": null,
   "id": "50adb927-df95-4ff9-b677-c50c979a01d8",
   "metadata": {},
   "outputs": [],
   "source": [
    "df[df[\"DV\"] > 10][\"DV\"].value_counts()\n"
   ]
  },
  {
   "cell_type": "code",
   "execution_count": null,
   "id": "6bf04eac-1776-464a-b401-e684887ec734",
   "metadata": {},
   "outputs": [],
   "source": [
    "df[df[\"DV\"] > 10].value_counts()"
   ]
  },
  {
   "cell_type": "code",
   "execution_count": null,
   "id": "279a7ff6-c2f9-4a85-a019-deb144ef34df",
   "metadata": {},
   "outputs": [],
   "source": [
    "\n",
    "\n",
    "\n",
    "\n",
    "import pandas as pd\n",
    "from tabulate import tabulate\n",
    "\n",
    "file_path = \"MIDMARKS.xlsx\"  \n",
    "df = pd.read_excel(file_path, sheet_name=\"SEM2 MID 1 - ALPHA\")\n",
    "\n",
    "subject_columns = df.columns[2:]\n",
    "\n",
    "df[subject_columns] = df[subject_columns].apply(pd.to_numeric, errors='coerce')\n",
    "\n",
    "average_marks = df.groupby(\"SECTION\")[subject_columns].mean()\n",
    "\n",
    "subject_percentage = (average_marks / 20) * 100\n",
    "\n",
    "pass_marks = 10\n",
    "\n",
    "pass_percentage = df.groupby(\"SECTION\")[subject_columns].apply(lambda x: (x >= pass_marks).mean() * 100)\n",
    "\n",
    "\n",
    "predicted_probability = pass_percentage / 100\n",
    "\n",
    "print(\"\\n Predicted Probability of Passing for Each Subject by Section:\")\n",
    "\n",
    "print(tabulate(predicted_probability, headers=\"keys\", tablefmt=\"grid\"))"
   ]
  },
  {
   "cell_type": "code",
   "execution_count": null,
   "id": "3db2ba47-3a35-44a5-8027-6a23c6aff362",
   "metadata": {},
   "outputs": [],
   "source": [
    "\n",
    "df[\"DV\"] = pd.to_numeric(df[\"DV\"], errors=\"coerce\")\n",
    "mean_dv_alpha = df[\"DV\"].mean()\n",
    "mean_dv_alpha\n"
   ]
  },
  {
   "cell_type": "code",
   "execution_count": null,
   "id": "81c83cf7-b94d-410a-9e16-42daf9142bd3",
   "metadata": {},
   "outputs": [],
   "source": [
    "\n",
    "\n",
    "\n",
    "\n",
    "\n",
    "df[df[\"SECTION\"] == \"ALPHA\"].mean(numeric_only=True)\n"
   ]
  },
  {
   "cell_type": "code",
   "execution_count": null,
   "id": "8a11bc68-3153-4042-aff5-72d8ccae0cb9",
   "metadata": {},
   "outputs": [],
   "source": [
    "population_mean = df[df[\"SECTION\"] == \"ALPHA\"].mean(numeric_only=True)\n",
    "population_std = df[df[\"SECTION\"] == \"ALPHA\"].std(numeric_only=True)\n",
    "\n",
    "population_mean, population_std\n"
   ]
  },
  {
   "cell_type": "code",
   "execution_count": null,
   "id": "efbab033-ab47-433a-812d-aea470ae92bc",
   "metadata": {},
   "outputs": [],
   "source": [
    "df[df[\"SECTION\"] == \"ALPHA\"].mean(numeric_only=True)\n"
   ]
  },
  {
   "cell_type": "code",
   "execution_count": null,
   "id": "497f0a6b-a9a5-461a-b2b4-4174fb3a9202",
   "metadata": {},
   "outputs": [],
   "source": [
    "df.shape"
   ]
  },
  {
   "cell_type": "code",
   "execution_count": null,
   "id": "59fc19c0-ca78-42f5-8573-923fcf589867",
   "metadata": {},
   "outputs": [],
   "source": [
    "\n",
    "\n",
    "\n",
    "import pandas as pd\n",
    "from scipy.stats import ttest_ind\n"
   ]
  },
  {
   "cell_type": "code",
   "execution_count": null,
   "id": "1e252e8d-fe83-4f50-b7ab-8e02d0855117",
   "metadata": {},
   "outputs": [],
   "source": [
    "df[df[\"SECTION\"] == \"ALPHA\"]['DV']"
   ]
  },
  {
   "cell_type": "code",
   "execution_count": null,
   "id": "e43b9d61-0a88-4892-a2ce-046b82320ba5",
   "metadata": {},
   "outputs": [],
   "source": [
    "df[df[\"SECTION\"] == \"BETA\"]['DV']"
   ]
  },
  {
   "cell_type": "code",
   "execution_count": null,
   "id": "9740a1f6-f6bb-460f-a9cd-2e8fe43f32d5",
   "metadata": {},
   "outputs": [],
   "source": [
    "df[df[\"SECTION\"] == \"SIGMA\"]['DV']"
   ]
  },
  {
   "cell_type": "code",
   "execution_count": null,
   "id": "8c2889ac-6df1-4971-88e9-36fac0b53f4f",
   "metadata": {},
   "outputs": [],
   "source": [
    "import pandas as pd\n",
    "from scipy.stats import ttest_ind\n",
    "\n",
    "ttest_ind(df[df[\"SECTION\"] == \"ALPHA\"]['DV'],df[df[\"SECTION\"] == \"BETA\"]['DV'] )"
   ]
  },
  {
   "cell_type": "code",
   "execution_count": null,
   "id": "e4a8e30d-b4b8-4183-9970-cf94b41f0b34",
   "metadata": {},
   "outputs": [],
   "source": [
    "df[df[\"SECTION\"] == \"BETA\"]['DV']"
   ]
  },
  {
   "cell_type": "code",
   "execution_count": null,
   "id": "c49c3984-bf50-491c-89c6-b04a0a5e918a",
   "metadata": {},
   "outputs": [],
   "source": [
    "df.DV.mean()"
   ]
  },
  {
   "cell_type": "code",
   "execution_count": null,
   "id": "161ff6bc-7502-4d0f-a19c-a7e84e25d2e8",
   "metadata": {},
   "outputs": [],
   "source": [
    "pip install scipy"
   ]
  },
  {
   "cell_type": "code",
   "execution_count": null,
   "id": "6c8f1e0a-dfc1-4494-aa7d-79aa5260529c",
   "metadata": {},
   "outputs": [],
   "source": [
    "from scipy.stats import chi2_contingency\n",
    "data = [df[df[\"SECTION\"] == \"ALPHA\"]['DV'],df[df[\"SECTION\"] == \"BETA\"]['DV']]\n",
    "stat, p, dof, expected = chi2_contingency(data)\n",
    "alpha = 0.05\n",
    "print(\"p value is \" + str(p))\n",
    "if p <= alpha:\n",
    "    print('Dependent (reject H0)')\n",
    "else:\n",
    "    print('Independent (H0 holds true)')"
   ]
  },
  {
   "cell_type": "code",
   "execution_count": null,
   "id": "6721b1cb-cf80-4ff7-8b67-15585e37a999",
   "metadata": {},
   "outputs": [],
   "source": [
    "stat"
   ]
  },
  {
   "cell_type": "code",
   "execution_count": null,
   "id": "c90a5e1a-506c-427f-9710-0f8d2eff7013",
   "metadata": {},
   "outputs": [],
   "source": [
    "p"
   ]
  },
  {
   "cell_type": "code",
   "execution_count": null,
   "id": "131d38ca-227b-4c42-b756-bc49474893b8",
   "metadata": {},
   "outputs": [],
   "source": [
    "dof\n"
   ]
  },
  {
   "cell_type": "code",
   "execution_count": null,
   "id": "6bd5b566-683e-4d0b-abfc-fdd44553799d",
   "metadata": {},
   "outputs": [],
   "source": [
    "dof"
   ]
  },
  {
   "cell_type": "code",
   "execution_count": null,
   "id": "66ed2ad8-633d-48aa-9dcf-08d23a3392a1",
   "metadata": {},
   "outputs": [],
   "source": [
    "expected"
   ]
  },
  {
   "cell_type": "code",
   "execution_count": null,
   "id": "f82b3e97-7d51-4b19-aca7-507909deb8e4",
   "metadata": {},
   "outputs": [],
   "source": [
    "import scipy.stats as stats\n",
    "t_statistic,p_value = stats.ttest_1samp(df[df['SECTION']=='ALPHA']['DV'] ,df.DV.mean())\n",
    "print(t_statistic,p_value)"
   ]
  },
  {
   "cell_type": "code",
   "execution_count": null,
   "id": "8b8fbea9-c88a-4b51-9b3d-cbb13574428f",
   "metadata": {},
   "outputs": [],
   "source": [
    "import scipy.stats as stats\n",
    "t_statistic,p_value = stats.ttest_1samp(df[df['SECTION']=='BETA']['DV'] ,df.DV.mean())\n",
    "print(t_statistic,p_value)"
   ]
  },
  {
   "cell_type": "code",
   "execution_count": null,
   "id": "ec01e119-fb3d-484a-9ba1-d9f58ef191ae",
   "metadata": {},
   "outputs": [],
   "source": [
    "import scipy.stats as stats\n",
    "t_statistic,p_value = stats.ttest_1samp(df[df['SECTION']=='GAMMA']['DV'] ,df.DV.mean())\n",
    "print(t_statistic,p_value)"
   ]
  },
  {
   "cell_type": "code",
   "execution_count": null,
   "id": "c6db5945-6e4e-493c-a95d-1d9f4718d16c",
   "metadata": {},
   "outputs": [],
   "source": [
    "import scipy.stats as stats\n",
    "t_statistic,p_value = stats.ttest_1samp(df[df['SECTION']=='DELTA']['DV'] ,df.DV.mean())\n",
    "print(t_statistic,p_value)"
   ]
  },
  {
   "cell_type": "code",
   "execution_count": null,
   "id": "02aa1395-d994-48fb-9026-45648ff5cafc",
   "metadata": {},
   "outputs": [],
   "source": [
    "import scipy.stats as stats\n",
    "\n",
    "dv_alpha = df[df['SECTION'] == 'ALPHA']['DV']\n",
    "dv_beta = df[df['SECTION'] == 'BETA']['DV']\n",
    "\n",
    "t_statistic, p_value = stats.ttest_ind(dv_alpha, dv_beta, equal_var=False)  # Welch’s t-test\n",
    "\n",
    "print(\"T-statistic:\", t_statistic)\n",
    "print(\"P-value:\", p_value)\n"
   ]
  },
  {
   "cell_type": "code",
   "execution_count": null,
   "id": "2d2734f8-f3ee-49e2-bc5b-d44209c3eb60",
   "metadata": {},
   "outputs": [],
   "source": [
    "\n",
    "\n",
    "import scipy.stats as stats\n",
    "import pandas as pd\n",
    "\n",
    "contingency_table = pd.crosstab(df['SECTION'], df['DV'])\n",
    "\n",
    "chi2_stat, p_value, dof, expected = stats.chi2_contingency(contingency_table)\n",
    "\n",
    "# Print results\n",
    "print(\"Chi-Square Statistic:\", chi2_stat)\n",
    "print(\"P-value:\", p_value)\n",
    "print(\"Degrees of Freedom:\", dof)\n",
    "print(\"Expected Frequencies Table:\\n\", expected)\n"
   ]
  },
  {
   "cell_type": "code",
   "execution_count": null,
   "id": "63a75ac9-61f8-486d-bb1d-149141c7e8c5",
   "metadata": {},
   "outputs": [],
   "source": [
    "\n",
    "\n",
    "\n",
    "chi2_stat"
   ]
  },
  {
   "cell_type": "code",
   "execution_count": null,
   "id": "9c613aae-8f24-477f-9c79-cee1b36da92e",
   "metadata": {},
   "outputs": [],
   "source": [
    "p_value"
   ]
  },
  {
   "cell_type": "code",
   "execution_count": null,
   "id": "273abcb7-09e4-4b8a-99a8-fd4842294284",
   "metadata": {},
   "outputs": [],
   "source": [
    "dof"
   ]
  },
  {
   "cell_type": "code",
   "execution_count": null,
   "id": "ec3cc484-1fc7-4c79-a812-8cb89646a5e7",
   "metadata": {},
   "outputs": [],
   "source": [
    "expected"
   ]
  },
  {
   "cell_type": "code",
   "execution_count": null,
   "id": "fadfd565-25d5-4116-976e-8eda821146fb",
   "metadata": {},
   "outputs": [],
   "source": []
  },
  {
   "cell_type": "code",
   "execution_count": null,
   "id": "0aef2153-86ef-408f-bbc4-ac52d9426669",
   "metadata": {},
   "outputs": [],
   "source": []
  }
 ],
 "metadata": {
  "kernelspec": {
   "display_name": "Python 3 (ipykernel)",
   "language": "python",
   "name": "python3"
  },
  "language_info": {
   "codemirror_mode": {
    "name": "ipython",
    "version": 3
   },
   "file_extension": ".py",
   "mimetype": "text/x-python",
   "name": "python",
   "nbconvert_exporter": "python",
   "pygments_lexer": "ipython3",
   "version": "3.12.7"
  }
 },
 "nbformat": 4,
 "nbformat_minor": 5
}
